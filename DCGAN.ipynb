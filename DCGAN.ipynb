{
  "nbformat": 4,
  "nbformat_minor": 0,
  "metadata": {
    "colab": {
      "name": "Untitled3.ipynb",
      "provenance": [],
      "collapsed_sections": [],
      "authorship_tag": "ABX9TyP2XHsr5Uk0L8aW3Vlpr5lY",
      "include_colab_link": true
    },
    "kernelspec": {
      "name": "python3",
      "display_name": "Python 3"
    }
  },
  "cells": [
    {
      "cell_type": "markdown",
      "metadata": {
        "id": "view-in-github",
        "colab_type": "text"
      },
      "source": [
        "<a href=\"https://colab.research.google.com/github/rajatmyname/imad-app/blob/master/DCGAN.ipynb\" target=\"_parent\"><img src=\"https://colab.research.google.com/assets/colab-badge.svg\" alt=\"Open In Colab\"/></a>"
      ]
    },
    {
      "cell_type": "code",
      "metadata": {
        "id": "vTVODxK_3U0w"
      },
      "source": [
        "import tensorflow as tf\r\n",
        "import imageio\r\n",
        "import matplotlib.pyplot as plt\r\n",
        "import numpy as np\r\n",
        "import os\r\n",
        "import PIL\r\n",
        "from tensorflow.keras import layers\r\n",
        "import time\r\n",
        "from IPython import display\r\n",
        "import pickle\r\n",
        "from tensorflow.keras.models import Sequential\r\n"
      ],
      "execution_count": 7,
      "outputs": []
    },
    {
      "cell_type": "code",
      "metadata": {
        "colab": {
          "base_uri": "https://localhost:8080/"
        },
        "id": "0gyOYmDN4V74",
        "outputId": "165ba30c-da8d-4996-9538-fcc4d4dfbb41"
      },
      "source": [
        "from google.colab import drive\r\n",
        "drive.mount('/content/gdrive')"
      ],
      "execution_count": 2,
      "outputs": [
        {
          "output_type": "stream",
          "text": [
            "Mounted at /content/gdrive\n"
          ],
          "name": "stdout"
        }
      ]
    },
    {
      "cell_type": "code",
      "metadata": {
        "id": "pfc2ayQwC08K"
      },
      "source": [
        "pickle_in = open(\"gdrive/My Drive/Ol Chiki/Outputs/Pickles/Handwritten CNN/X_Train.pickle\", \"rb\")\r\n",
        "X_train = pickle.load(pickle_in)\r\n",
        "pickle_in = open(\"gdrive/My Drive/Ol Chiki/Outputs/Pickles/Handwritten CNN/y_Train.pickle\", \"rb\")\r\n",
        "y_train = pickle.load(pickle_in)\r\n",
        "\r\n",
        "pickle_in = open(\"gdrive/My Drive/Ol Chiki/Outputs/Pickles/Handwritten CNN/X_Test.pickle\", \"rb\")\r\n",
        "X_test = pickle.load(pickle_in)\r\n",
        "pickle_in = open(\"gdrive/My Drive/Ol Chiki/Outputs/Pickles/Handwritten CNN/y_Test.pickle\", \"rb\")\r\n",
        "y_test = pickle.load(pickle_in)\r\n",
        "\r\n",
        "pickle_in = open(\"gdrive/My Drive/Ol Chiki/Outputs/Pickles/Handwritten CNN/X_Unseen_Test.pickle\", \"rb\")\r\n",
        "X_unseen_test = pickle.load(pickle_in)\r\n",
        "pickle_in = open(\"gdrive/My Drive/Ol Chiki/Outputs/Pickles/Handwritten CNN/y_Unseen_Test.pickle\", \"rb\")\r\n",
        "y_unseen_test = pickle.load(pickle_in)"
      ],
      "execution_count": 5,
      "outputs": []
    },
    {
      "cell_type": "code",
      "metadata": {
        "id": "ZvrFPWQ6JUl4"
      },
      "source": [
        "y_train = tf.keras.utils.to_categorical(y_train, num_classes=30)\r\n",
        "y_test = tf.keras.utils.to_categorical(y_test, num_classes=30)\r\n",
        "y_unseen_test = tf.keras.utils.to_categorical(y_unseen_test, num_classes=30)"
      ],
      "execution_count": 6,
      "outputs": []
    },
    {
      "cell_type": "code",
      "metadata": {
        "colab": {
          "base_uri": "https://localhost:8080/"
        },
        "id": "YODp_UVqKf10",
        "outputId": "2530775d-f226-41a5-a1b7-060d1686970b"
      },
      "source": [
        "#def make_generator_model():\r\n",
        "X_train.shape\r\n",
        "\r\n",
        "\r\n",
        "\r\n"
      ],
      "execution_count": 8,
      "outputs": [
        {
          "output_type": "execute_result",
          "data": {
            "text/plain": [
              "(9072, 100, 100, 1)"
            ]
          },
          "metadata": {
            "tags": []
          },
          "execution_count": 8
        }
      ]
    },
    {
      "cell_type": "code",
      "metadata": {
        "id": "fhGcJe7LRwvn"
      },
      "source": [
        ""
      ],
      "execution_count": null,
      "outputs": []
    }
  ]
}
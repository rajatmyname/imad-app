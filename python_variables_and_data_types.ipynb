{
  "nbformat": 4,
  "nbformat_minor": 0,
  "metadata": {
    "kernelspec": {
      "display_name": "Python 3",
      "language": "python",
      "name": "python3"
    },
    "language_info": {
      "codemirror_mode": {
        "name": "ipython",
        "version": 3
      },
      "file_extension": ".py",
      "mimetype": "text/x-python",
      "name": "python",
      "nbconvert_exporter": "python",
      "pygments_lexer": "ipython3",
      "version": "3.8.5"
    },
    "colab": {
      "name": "python-variables-and-data-types.ipynb",
      "provenance": [],
      "include_colab_link": true
    }
  },
  "cells": [
    {
      "cell_type": "markdown",
      "metadata": {
        "id": "view-in-github",
        "colab_type": "text"
      },
      "source": [
        "<a href=\"https://colab.research.google.com/github/rajatmyname/imad-app/blob/master/python_variables_and_data_types.ipynb\" target=\"_parent\"><img src=\"https://colab.research.google.com/assets/colab-badge.svg\" alt=\"Open In Colab\"/></a>"
      ]
    },
    {
      "cell_type": "code",
      "metadata": {
        "id": "xgJP9E9y_586",
        "colab_type": "code",
        "colab": {}
      },
      "source": [
        "# Jovian Commit Essentials\n",
        "# Please retain and execute this cell without modifying the contents for `jovian.commit` to work\n",
        "!pip install jovian --upgrade -q\n",
        "import jovian\n",
        "jovian.utils.colab.set_colab_file_id('1N0SHvrIe7kbApFccVOvkr0psrVTuZKcH')"
      ],
      "execution_count": null,
      "outputs": []
    },
    {
      "cell_type": "markdown",
      "metadata": {
        "id": "cXq17W2Q_59N",
        "colab_type": "text"
      },
      "source": [
        "# A Quick Tour of Variables and Data Types in Python\n",
        "\n",
        "### Part 2 of \"A Gentle Introduction to Programming with Python\"\n",
        "\n",
        "This tutorial is the second in a series on introduction to programming using the Python language. These tutorials take a practical coding-based approach, and the best way to learn the material is to execute the code and experiment with the examples. Check out the full series here: \n",
        "\n",
        "1. [First Steps with Python and Jupyter](https://jovian.ml/aakashns/first-steps-with-python)\n",
        "2. [A Quick Tour of Variables and Data Types](https://jovian.ml/aakashns/python-variables-and-data-types)\n",
        "3. [Branching using Conditional Statements and Loops](https://jovian.ml/aakashns/python-branching-and-loops)\n",
        "4. [Writing Reusable Code Using Functions](https://jovian.ml/aakashns/python-functions-and-scope)\n",
        "5. [Reading from and Writing to Files](https://jovian.ml/aakashns/python-os-and-filesystem)\n",
        "6. [Object Oriented Programming with Classes](https://jovian.ml/aakashns/python-object-oriented-programming)\n",
        "\n"
      ]
    },
    {
      "cell_type": "markdown",
      "metadata": {
        "id": "Y6opJq9P_59Q",
        "colab_type": "text"
      },
      "source": [
        "## How to run the code\n",
        "\n",
        "This tutorial hosted on [Jovian.ml](https://www.jovian.ml), a platform for sharing data science projects online. You can \"run\" this tutorial and experiment with the code examples in a couple of ways: *using free online resources* (recommended) or *on your own computer*.\n",
        "\n",
        ">  This tutorial is a [Jupyter notebook](https://jupyter.org) - a document made of \"cells\", which can contain explanations in text or code written in Python. Code cells can be executed and their outputs e.g. numbers, messages, graphs, tables, files etc. can be viewed within the notebook, which makes it a really powerful platform for experimentation and analysis. Don't afraid to experiment with the code & break things - you'll learn a lot by encoutering and fixing errors. You can use the \"Kernel > Restart & Clear Output\" menu option to clear all outputs and start again from the top of the notebook.\n",
        "\n",
        "### Option 1: Running using free online resources (1-click, recommended)\n",
        "\n",
        "The easiest way to start executing this notebook is to click the \"Run\" button at the top of this page, and select \"Run on Binder\". This will run the notebook on [mybinder.org](https://mybinder.org), a free online service for running Jupyter notebooks. You can also select \"Run on Colab\" or \"Run on Kaggle\", but you'll need to create an account on [Google Colab](https://colab.research.google.com) or [Kaggle](https://kaggle.com) to use these platforms.\n",
        "\n",
        "\n",
        "### Option 2: Running on your computer locally\n",
        "\n",
        "You'll need to install Python and download this notebook on your computer to run in locally. We recommend using the [Conda](https://docs.conda.io/en/latest/) distribution of Python. Here's what you need to do to get started:\n",
        "\n",
        "1. Install Conda by [following these instructions](https://conda.io/projects/conda/en/latest/user-guide/install/index.html). Make sure to add Conda binaries to your system `PATH` to be able to run the `conda` command line tool from your Mac/Linux terminal or Windows command prompt. \n",
        "\n",
        "\n",
        "2. Create and activate a [Conda virtual environment](https://docs.conda.io/projects/conda/en/latest/user-guide/tasks/manage-environments.html) called `zerotopandas` which you can use for this tutorial series:\n",
        "```\n",
        "conda create -n intro-to-python -y python=3.8 \n",
        "conda activate intro-to-python\n",
        "```\n",
        "You'll need to create the environment only once, but you'll have to activate it every time want to run the notebook. When the environment is activated, you should be able to see a prefix `(intro-to-python)` within your terminal or command prompt.\n",
        "\n",
        "\n",
        "3. Install the required Python libraries within the environmebt by the running the following command on your  terminal or command prompt:\n",
        "```\n",
        "pip install jovian jupyter numpy pandas matplotlib seaborn --upgrade\n",
        "```\n",
        "\n",
        "4. Download the notebook for this tutorial using the `jovian clone` command:\n",
        "```\n",
        "jovian clone aakashns/python-variables-and-data-types\n",
        "```\n",
        "The notebook is downloaded to the directory `python-variables-and-data-types`.\n",
        "\n",
        "\n",
        "5. Enter the project directory and start the Jupyter notebook:\n",
        "```\n",
        "cd python-variables-and-data-types\n",
        "jupyter notebook\n",
        "```\n",
        "\n",
        "6. You can now access Jupyter's web interface by clicking the link that shows up on the terminal or by visiting http://localhost:8888 on your browser. Click on the notebook `python-variables-and-data-types.ipynb` to open it and run the code. If you want to type out the code yourself, you can also create a new notebook using the \"New\" button.\n",
        "\n",
        "\n"
      ]
    },
    {
      "cell_type": "markdown",
      "metadata": {
        "id": "HOnxufWW_59S",
        "colab_type": "text"
      },
      "source": [
        "## Storing information using variables\n",
        "\n",
        "Computers are useful for two purposes: storing information and performing operations on stored information. While working with a programming language such as Python, informations is stored in *variables*. You can think of variables are containers for storing data. The data stored within a variable is called it's *value*. It's really easy to create variables in Python, as we've already seen in the [previous tutorial](https://jovian.ml/aakashns/first-steps-with-python/v/4#C15).\n",
        "\n"
      ]
    },
    {
      "cell_type": "code",
      "metadata": {
        "id": "DYUGfR4b_59V",
        "colab_type": "code",
        "colab": {}
      },
      "source": [
        "my_favorite_color = \"blue\""
      ],
      "execution_count": null,
      "outputs": []
    },
    {
      "cell_type": "code",
      "metadata": {
        "id": "QEnBelut_59q",
        "colab_type": "code",
        "colab": {},
        "outputId": "a4ec1e5e-2d72-4b42-9321-3171dda50e5b"
      },
      "source": [
        "my_favorite_color"
      ],
      "execution_count": null,
      "outputs": [
        {
          "output_type": "execute_result",
          "data": {
            "text/plain": [
              "'blue'"
            ]
          },
          "metadata": {
            "tags": []
          },
          "execution_count": 2
        }
      ]
    },
    {
      "cell_type": "markdown",
      "metadata": {
        "id": "G-5eV4ps_59-",
        "colab_type": "text"
      },
      "source": [
        "A variable is created using an *assignment statement*, which begins with the variable's name, followed by the assignment operator `=` (different from the equality comparision operator `==`), followed by the value to be stored within the variable. \n",
        "\n",
        "You can also values to multiple variables in a single statement by separating the variable names and values with commas."
      ]
    },
    {
      "cell_type": "code",
      "metadata": {
        "id": "kVC9yjY-_5-A",
        "colab_type": "code",
        "colab": {}
      },
      "source": [
        "color1, color2, color3 = \"red\", \"green\", \"blue\""
      ],
      "execution_count": null,
      "outputs": []
    },
    {
      "cell_type": "code",
      "metadata": {
        "id": "LOBkKql0_5-O",
        "colab_type": "code",
        "colab": {},
        "outputId": "e91731d5-12b3-4729-e362-1315bceae591"
      },
      "source": [
        "color1"
      ],
      "execution_count": null,
      "outputs": [
        {
          "output_type": "execute_result",
          "data": {
            "text/plain": [
              "'red'"
            ]
          },
          "metadata": {
            "tags": []
          },
          "execution_count": 4
        }
      ]
    },
    {
      "cell_type": "code",
      "metadata": {
        "id": "vvZEeMdK_5-a",
        "colab_type": "code",
        "colab": {},
        "outputId": "bc2a7b06-5ded-490d-a216-ac80c53ab646"
      },
      "source": [
        "color2"
      ],
      "execution_count": null,
      "outputs": [
        {
          "output_type": "execute_result",
          "data": {
            "text/plain": [
              "'green'"
            ]
          },
          "metadata": {
            "tags": []
          },
          "execution_count": 5
        }
      ]
    },
    {
      "cell_type": "code",
      "metadata": {
        "id": "XqUeLOjc_5-s",
        "colab_type": "code",
        "colab": {},
        "outputId": "872f6c33-3650-4a60-e740-63d21c2661df"
      },
      "source": [
        "color3"
      ],
      "execution_count": null,
      "outputs": [
        {
          "output_type": "execute_result",
          "data": {
            "text/plain": [
              "'blue'"
            ]
          },
          "metadata": {
            "tags": []
          },
          "execution_count": 6
        }
      ]
    },
    {
      "cell_type": "markdown",
      "metadata": {
        "id": "FE39o31L_5-7",
        "colab_type": "text"
      },
      "source": [
        "You can assign the same value to multiple variables by chaining multiple assignment operations within a single statement."
      ]
    },
    {
      "cell_type": "code",
      "metadata": {
        "id": "bMQVKi6t_5-9",
        "colab_type": "code",
        "colab": {}
      },
      "source": [
        "color4 = color5 = color6 = \"magenta\""
      ],
      "execution_count": null,
      "outputs": []
    },
    {
      "cell_type": "code",
      "metadata": {
        "id": "apgfK9zQ_5_J",
        "colab_type": "code",
        "colab": {},
        "outputId": "2a521904-c533-48bf-e4ff-acff0f846611"
      },
      "source": [
        "color4"
      ],
      "execution_count": null,
      "outputs": [
        {
          "output_type": "execute_result",
          "data": {
            "text/plain": [
              "'magenta'"
            ]
          },
          "metadata": {
            "tags": []
          },
          "execution_count": 8
        }
      ]
    },
    {
      "cell_type": "code",
      "metadata": {
        "id": "JRCjg_x2_5_V",
        "colab_type": "code",
        "colab": {},
        "outputId": "329a7725-cdc2-4306-ce13-0d3a41de5930"
      },
      "source": [
        "color5"
      ],
      "execution_count": null,
      "outputs": [
        {
          "output_type": "execute_result",
          "data": {
            "text/plain": [
              "'magenta'"
            ]
          },
          "metadata": {
            "tags": []
          },
          "execution_count": 9
        }
      ]
    },
    {
      "cell_type": "code",
      "metadata": {
        "id": "6IJustrY_5_f",
        "colab_type": "code",
        "colab": {},
        "outputId": "7d2b3a1e-0ebf-456a-d182-0e3ede4e375c"
      },
      "source": [
        "color6"
      ],
      "execution_count": null,
      "outputs": [
        {
          "output_type": "execute_result",
          "data": {
            "text/plain": [
              "'magenta'"
            ]
          },
          "metadata": {
            "tags": []
          },
          "execution_count": 10
        }
      ]
    },
    {
      "cell_type": "markdown",
      "metadata": {
        "id": "uxu9ppez_5_u",
        "colab_type": "text"
      },
      "source": [
        "You can change the value stored within a variable simply by assigning a new value to it using another assignment statement. Be careful while reassgining variables: when you assign a new value to the variable, the old value is lost and no longer accessible."
      ]
    },
    {
      "cell_type": "code",
      "metadata": {
        "id": "wuaxjO_K_5_y",
        "colab_type": "code",
        "colab": {}
      },
      "source": [
        "my_favorite_color = \"red\""
      ],
      "execution_count": null,
      "outputs": []
    },
    {
      "cell_type": "code",
      "metadata": {
        "id": "K2y4auJB_5_7",
        "colab_type": "code",
        "colab": {},
        "outputId": "0b620474-adc6-4389-b2c3-a671b3f260b9"
      },
      "source": [
        "my_favorite_color"
      ],
      "execution_count": null,
      "outputs": [
        {
          "output_type": "execute_result",
          "data": {
            "text/plain": [
              "'red'"
            ]
          },
          "metadata": {
            "tags": []
          },
          "execution_count": 12
        }
      ]
    },
    {
      "cell_type": "markdown",
      "metadata": {
        "id": "40GpRvwH_6AF",
        "colab_type": "text"
      },
      "source": [
        "While assigning a new value to a variable, you can also use the previous value of the variable to determine the new value."
      ]
    },
    {
      "cell_type": "code",
      "metadata": {
        "id": "x1CmXtSZ_6AH",
        "colab_type": "code",
        "colab": {}
      },
      "source": [
        "counter = 10"
      ],
      "execution_count": null,
      "outputs": []
    },
    {
      "cell_type": "code",
      "metadata": {
        "id": "gp88Mkft_6AX",
        "colab_type": "code",
        "colab": {}
      },
      "source": [
        "counter = counter + 1"
      ],
      "execution_count": null,
      "outputs": []
    },
    {
      "cell_type": "code",
      "metadata": {
        "id": "pAv5rZRO_6Ah",
        "colab_type": "code",
        "colab": {},
        "outputId": "da7d2951-52ab-48eb-8e9e-20aac1206afe"
      },
      "source": [
        "counter"
      ],
      "execution_count": null,
      "outputs": [
        {
          "output_type": "execute_result",
          "data": {
            "text/plain": [
              "11"
            ]
          },
          "metadata": {
            "tags": []
          },
          "execution_count": 6
        }
      ]
    },
    {
      "cell_type": "markdown",
      "metadata": {
        "id": "eoxGy5S5_6At",
        "colab_type": "text"
      },
      "source": [
        "The pattern `var = var op something` (where `op` is an arithmetic operator like `+`, `-`, `*`, `/`) is very commonly used, so Python provides a *shorthand* syntax for it."
      ]
    },
    {
      "cell_type": "code",
      "metadata": {
        "id": "qb78W6OM_6Ay",
        "colab_type": "code",
        "colab": {}
      },
      "source": [
        "counter = 10"
      ],
      "execution_count": null,
      "outputs": []
    },
    {
      "cell_type": "code",
      "metadata": {
        "id": "Ttcvu5Dl_6BA",
        "colab_type": "code",
        "colab": {}
      },
      "source": [
        "# Same as `counter = counter + 4`\n",
        "counter += 4"
      ],
      "execution_count": null,
      "outputs": []
    },
    {
      "cell_type": "code",
      "metadata": {
        "id": "LNZ52C8u_6BM",
        "colab_type": "code",
        "colab": {},
        "outputId": "7eb65b58-4035-41c8-9f2a-da90efa38139"
      },
      "source": [
        "counter"
      ],
      "execution_count": null,
      "outputs": [
        {
          "output_type": "execute_result",
          "data": {
            "text/plain": [
              "14"
            ]
          },
          "metadata": {
            "tags": []
          },
          "execution_count": 11
        }
      ]
    },
    {
      "cell_type": "markdown",
      "metadata": {
        "id": "d0bhF0_C_6BY",
        "colab_type": "text"
      },
      "source": [
        "Variable names can be short (`a`, `x`, `y` etc.) or descriptive ( `my_favorite_color`, `profit_margin`, `the_3_musketeers` etc.). Howerver, you must follow these rules while naming Python variables:\n",
        "\n",
        "* A variable's name must start with a letter or the underscore character `_`. It cannot start with a number.\n",
        "* A variable name can only contain lowercase or uppercase letters, digits or underscores (`a`-`z`, `A`-`Z`, `0`-`9` and `_`).\n",
        "* Variable names are case-sensitive i.e. a_variable, A_Variable and A_VARIABLE are all different variables.\n",
        "\n",
        "Here are some valid variable names:"
      ]
    },
    {
      "cell_type": "code",
      "metadata": {
        "id": "Vm1OBBCY_6Ba",
        "colab_type": "code",
        "colab": {}
      },
      "source": [
        "a_variable = 23\n",
        "is_today_Saturday = False\n",
        "my_favorite_car = \"Delorean\"\n",
        "the_3_musketeers = [\"Athos\", \"Porthos\", \"Aramis\"] "
      ],
      "execution_count": null,
      "outputs": []
    },
    {
      "cell_type": "markdown",
      "metadata": {
        "id": "j7JviRmw_6Bz",
        "colab_type": "text"
      },
      "source": [
        "Let's also try creating some variables with invalid names. Python prints a syntax error if your variable's name is invalid.\n",
        "\n",
        "> **Syntax**: The syntax of a programming language refers to the rules which govern what a valid instruction or *statement* in the language should look like. If a statement does not follow these rules, Python stops execution and informs you that there is a *syntax error*. You can think of syntax as the rules of grammar for a programming language."
      ]
    },
    {
      "cell_type": "code",
      "metadata": {
        "id": "B-OpD5h-_6B2",
        "colab_type": "code",
        "colab": {},
        "outputId": "7f4832ca-d9d7-4071-a5b4-748404614a1f"
      },
      "source": [
        "a variable = 23"
      ],
      "execution_count": null,
      "outputs": [
        {
          "output_type": "error",
          "ename": "SyntaxError",
          "evalue": "invalid syntax (<ipython-input-15-b4f9daa715a5>, line 1)",
          "traceback": [
            "\u001b[0;36m  File \u001b[0;32m\"<ipython-input-15-b4f9daa715a5>\"\u001b[0;36m, line \u001b[0;32m1\u001b[0m\n\u001b[0;31m    a variable = 23\u001b[0m\n\u001b[0m      ^\u001b[0m\n\u001b[0;31mSyntaxError\u001b[0m\u001b[0;31m:\u001b[0m invalid syntax\n"
          ]
        }
      ]
    },
    {
      "cell_type": "code",
      "metadata": {
        "id": "kRUbISrt_6CT",
        "colab_type": "code",
        "colab": {},
        "outputId": "99453145-5330-4680-a5d9-6337a334838e"
      },
      "source": [
        "is_today_$aturday = False"
      ],
      "execution_count": null,
      "outputs": [
        {
          "output_type": "error",
          "ename": "SyntaxError",
          "evalue": "invalid syntax (<ipython-input-16-3785425ca227>, line 1)",
          "traceback": [
            "\u001b[0;36m  File \u001b[0;32m\"<ipython-input-16-3785425ca227>\"\u001b[0;36m, line \u001b[0;32m1\u001b[0m\n\u001b[0;31m    is_today_$aturday = False\u001b[0m\n\u001b[0m             ^\u001b[0m\n\u001b[0;31mSyntaxError\u001b[0m\u001b[0;31m:\u001b[0m invalid syntax\n"
          ]
        }
      ]
    },
    {
      "cell_type": "code",
      "metadata": {
        "id": "7bqzcbmu_6Cu",
        "colab_type": "code",
        "colab": {},
        "outputId": "3dc0f71f-25e3-4bb6-dc32-6f6fd40f8e67"
      },
      "source": [
        "my-favorite-car = \"Delorean\""
      ],
      "execution_count": null,
      "outputs": [
        {
          "output_type": "error",
          "ename": "SyntaxError",
          "evalue": "cannot assign to operator (<ipython-input-17-829f5ed5b10b>, line 1)",
          "traceback": [
            "\u001b[0;36m  File \u001b[0;32m\"<ipython-input-17-829f5ed5b10b>\"\u001b[0;36m, line \u001b[0;32m1\u001b[0m\n\u001b[0;31m    my-favorite-car = \"Delorean\"\u001b[0m\n\u001b[0m    ^\u001b[0m\n\u001b[0;31mSyntaxError\u001b[0m\u001b[0;31m:\u001b[0m cannot assign to operator\n"
          ]
        }
      ]
    },
    {
      "cell_type": "code",
      "metadata": {
        "id": "124M_zF4_6DI",
        "colab_type": "code",
        "colab": {},
        "outputId": "eab45819-109d-49bb-a984-5002ace7392a"
      },
      "source": [
        "3_musketeers = [\"Athos\", \"Porthos\", \"Aramis\"]"
      ],
      "execution_count": null,
      "outputs": [
        {
          "output_type": "error",
          "ename": "SyntaxError",
          "evalue": "invalid decimal literal (<ipython-input-18-41d8638a15bb>, line 1)",
          "traceback": [
            "\u001b[0;36m  File \u001b[0;32m\"<ipython-input-18-41d8638a15bb>\"\u001b[0;36m, line \u001b[0;32m1\u001b[0m\n\u001b[0;31m    3_musketeers = [\"Athos\", \"Porthos\", \"Aramis\"]\u001b[0m\n\u001b[0m     ^\u001b[0m\n\u001b[0;31mSyntaxError\u001b[0m\u001b[0;31m:\u001b[0m invalid decimal literal\n"
          ]
        }
      ]
    },
    {
      "cell_type": "markdown",
      "metadata": {
        "id": "3WEkO9T2_6DZ",
        "colab_type": "text"
      },
      "source": [
        "### Save and upload your notebook\n",
        "\n",
        "Whether you're running this Jupyter notebook on an online service like Binder or on your local machine, it's important to save your work from time, so that you can access it later, or share it online. You can upload this notebook to your [Jovian.ml](https://jovian.ml) account using the `jovian` Python library."
      ]
    },
    {
      "cell_type": "code",
      "metadata": {
        "id": "0BRPWl6B_6Dc",
        "colab_type": "code",
        "colab": {}
      },
      "source": [
        "# Install the jovian library\n",
        "!pip install jovian --upgrade --quiet"
      ],
      "execution_count": null,
      "outputs": []
    },
    {
      "cell_type": "code",
      "metadata": {
        "id": "sHK8cbEn_6Ds",
        "colab_type": "code",
        "colab": {}
      },
      "source": [
        "import jovian"
      ],
      "execution_count": null,
      "outputs": []
    },
    {
      "cell_type": "code",
      "metadata": {
        "id": "uAxssitL_6D8",
        "colab_type": "code",
        "colab": {},
        "outputId": "d0e70ca2-6df3-45e7-b291-9f278deebffb"
      },
      "source": [
        "jovian.commit(project='python-variables-and-data-types')"
      ],
      "execution_count": null,
      "outputs": [
        {
          "output_type": "display_data",
          "data": {
            "application/javascript": [
              "window.require && require([\"base/js/namespace\"],function(Jupyter){Jupyter.notebook.save_checkpoint()})"
            ],
            "text/plain": [
              "<IPython.core.display.Javascript object>"
            ]
          },
          "metadata": {
            "tags": []
          }
        },
        {
          "output_type": "stream",
          "text": [
            "[jovian] Attempting to save notebook..\u001b[0m\n"
          ],
          "name": "stdout"
        }
      ]
    },
    {
      "cell_type": "markdown",
      "metadata": {
        "id": "fjMuCoKP_6EQ",
        "colab_type": "text"
      },
      "source": [
        "The first time you run `jovian.commit`, you'll be asked to provide an API Key, to securely upload the notebook to your Jovian.ml account. You can get the API key from your Jovian.ml profile page after logging in / signing up.\n",
        "\n",
        "![api-key](https://i.imgur.com/YGGLH3e.png)\n",
        "\n",
        "`jovian.commit` uploads the notebook to your Jovian.ml account, captures the Python environment and creates a shareable link for your notebook as shown above. You can use this link to share your work and let anyone (including you) run your notebooks and reproduce your work."
      ]
    },
    {
      "cell_type": "markdown",
      "metadata": {
        "id": "isUXGFsg_6ET",
        "colab_type": "text"
      },
      "source": [
        "## Built-in data types in Python\n",
        "\n",
        "Any data or information stored within a Python variable has a *type*. The type of data stored within a variable can be checked using the `type` function."
      ]
    },
    {
      "cell_type": "code",
      "metadata": {
        "id": "8jve-X0t_6EW",
        "colab_type": "code",
        "colab": {},
        "outputId": "9ea62258-f526-4825-ab23-84dc88d8c92c"
      },
      "source": [
        "a_variable"
      ],
      "execution_count": null,
      "outputs": [
        {
          "output_type": "execute_result",
          "data": {
            "text/plain": [
              "23"
            ]
          },
          "metadata": {
            "tags": []
          },
          "execution_count": 243
        }
      ]
    },
    {
      "cell_type": "code",
      "metadata": {
        "id": "TtoacYss_6Er",
        "colab_type": "code",
        "colab": {},
        "outputId": "5c94825b-788e-4d75-9d6d-16d9db7a8f5c"
      },
      "source": [
        "type(a_variable)"
      ],
      "execution_count": null,
      "outputs": [
        {
          "output_type": "execute_result",
          "data": {
            "text/plain": [
              "int"
            ]
          },
          "metadata": {
            "tags": []
          },
          "execution_count": 19
        }
      ]
    },
    {
      "cell_type": "code",
      "metadata": {
        "id": "ieoXln6-_6FG",
        "colab_type": "code",
        "colab": {},
        "outputId": "fdc61760-3f49-424c-a8e7-ca9363f761a2"
      },
      "source": [
        "is_today_Saturday"
      ],
      "execution_count": null,
      "outputs": [
        {
          "output_type": "execute_result",
          "data": {
            "text/plain": [
              "False"
            ]
          },
          "metadata": {
            "tags": []
          },
          "execution_count": 244
        }
      ]
    },
    {
      "cell_type": "code",
      "metadata": {
        "id": "W9s322yt_6FY",
        "colab_type": "code",
        "colab": {},
        "outputId": "228895de-bcef-4ad1-9330-a599f1fc7a05"
      },
      "source": [
        "type(is_today_Saturday)"
      ],
      "execution_count": null,
      "outputs": [
        {
          "output_type": "execute_result",
          "data": {
            "text/plain": [
              "bool"
            ]
          },
          "metadata": {
            "tags": []
          },
          "execution_count": 20
        }
      ]
    },
    {
      "cell_type": "code",
      "metadata": {
        "id": "3RDIcQaZ_6Fh",
        "colab_type": "code",
        "colab": {},
        "outputId": "46413cdd-083d-49cd-ea6d-e00a8c1cd2f6"
      },
      "source": [
        "my_favorite_car"
      ],
      "execution_count": null,
      "outputs": [
        {
          "output_type": "execute_result",
          "data": {
            "text/plain": [
              "'Delorean'"
            ]
          },
          "metadata": {
            "tags": []
          },
          "execution_count": 245
        }
      ]
    },
    {
      "cell_type": "code",
      "metadata": {
        "id": "orkDIQlw_6Fr",
        "colab_type": "code",
        "colab": {},
        "outputId": "7d040664-8a05-4c0a-d365-49cbf8b37830"
      },
      "source": [
        "type(my_favorite_car)"
      ],
      "execution_count": null,
      "outputs": [
        {
          "output_type": "execute_result",
          "data": {
            "text/plain": [
              "str"
            ]
          },
          "metadata": {
            "tags": []
          },
          "execution_count": 21
        }
      ]
    },
    {
      "cell_type": "code",
      "metadata": {
        "id": "2r8dCypM_6G2",
        "colab_type": "code",
        "colab": {},
        "outputId": "8bcd36e8-b274-4bc9-9184-dc0c9a2e2a1d"
      },
      "source": [
        "the_3_musketeers"
      ],
      "execution_count": null,
      "outputs": [
        {
          "output_type": "execute_result",
          "data": {
            "text/plain": [
              "['Athos', 'Porthos', 'Aramis']"
            ]
          },
          "metadata": {
            "tags": []
          },
          "execution_count": 246
        }
      ]
    },
    {
      "cell_type": "code",
      "metadata": {
        "id": "mG22pODQ_6HX",
        "colab_type": "code",
        "colab": {},
        "outputId": "7621d9e3-67bb-4b42-d533-647ddd181774"
      },
      "source": [
        "type(the_3_musketeers)"
      ],
      "execution_count": null,
      "outputs": [
        {
          "output_type": "execute_result",
          "data": {
            "text/plain": [
              "list"
            ]
          },
          "metadata": {
            "tags": []
          },
          "execution_count": 22
        }
      ]
    },
    {
      "cell_type": "markdown",
      "metadata": {
        "id": "CrGf2_yL_6Hy",
        "colab_type": "text"
      },
      "source": [
        "Python has several built-in data types for storing different types of information in variables. Following are at some commonly used data types:\n",
        "\n",
        "1. Integer\n",
        "2. Float\n",
        "3. Boolean\n",
        "4. None\n",
        "5. String\n",
        "6. List\n",
        "7. Tuple\n",
        "8. Dictionary\n",
        "\n",
        "Integer, float, boolean, None and string are *primitive data types* because they represent a single value. Other data types like list, tuple and dictionary are often called *data structures* or *containers* because they hold multiple pieces of data together."
      ]
    },
    {
      "cell_type": "markdown",
      "metadata": {
        "id": "DdySrK2-_6H0",
        "colab_type": "text"
      },
      "source": [
        "### Integer\n",
        "\n",
        "Integers represent positive or negative whole numbers, from negative infinity to infinity. Note that integers should not include decimal points. Integers have the type `int`."
      ]
    },
    {
      "cell_type": "code",
      "metadata": {
        "id": "xXELaod__6H2",
        "colab_type": "code",
        "colab": {}
      },
      "source": [
        "current_year = 2020"
      ],
      "execution_count": null,
      "outputs": []
    },
    {
      "cell_type": "code",
      "metadata": {
        "id": "Ezuf1z2t_6IS",
        "colab_type": "code",
        "colab": {},
        "outputId": "cf43ec37-2cf4-405b-a383-4b4b7e231255"
      },
      "source": [
        "current_year"
      ],
      "execution_count": null,
      "outputs": [
        {
          "output_type": "execute_result",
          "data": {
            "text/plain": [
              "2020"
            ]
          },
          "metadata": {
            "tags": []
          },
          "execution_count": 24
        }
      ]
    },
    {
      "cell_type": "code",
      "metadata": {
        "id": "gEKB-MXSEaQH",
        "colab_type": "code",
        "colab": {
          "base_uri": "https://localhost:8080/",
          "height": 180
        },
        "outputId": "b0ff631c-b911-4dea-871f-85cab784ca1c"
      },
      "source": [
        "import sys\n",
        "sys.getsizeof(current_year)"
      ],
      "execution_count": 5,
      "outputs": [
        {
          "output_type": "error",
          "ename": "NameError",
          "evalue": "ignored",
          "traceback": [
            "\u001b[0;31m---------------------------------------------------------------------------\u001b[0m",
            "\u001b[0;31mNameError\u001b[0m                                 Traceback (most recent call last)",
            "\u001b[0;32m<ipython-input-5-f01f99645fc4>\u001b[0m in \u001b[0;36m<module>\u001b[0;34m()\u001b[0m\n\u001b[1;32m      1\u001b[0m \u001b[0;32mimport\u001b[0m \u001b[0msys\u001b[0m\u001b[0;34m\u001b[0m\u001b[0;34m\u001b[0m\u001b[0m\n\u001b[0;32m----> 2\u001b[0;31m \u001b[0msys\u001b[0m\u001b[0;34m.\u001b[0m\u001b[0mgetsizeof\u001b[0m\u001b[0;34m(\u001b[0m\u001b[0mcurrent_year\u001b[0m\u001b[0;34m)\u001b[0m\u001b[0;34m\u001b[0m\u001b[0;34m\u001b[0m\u001b[0m\n\u001b[0m",
            "\u001b[0;31mNameError\u001b[0m: name 'current_year' is not defined"
          ]
        }
      ]
    },
    {
      "cell_type": "code",
      "metadata": {
        "id": "iW6K4aXe_6Ig",
        "colab_type": "code",
        "colab": {},
        "outputId": "32db5ba8-3e62-4df1-ef8c-7be223244bdc"
      },
      "source": [
        "type(current_year)"
      ],
      "execution_count": null,
      "outputs": [
        {
          "output_type": "execute_result",
          "data": {
            "text/plain": [
              "int"
            ]
          },
          "metadata": {
            "tags": []
          },
          "execution_count": 25
        }
      ]
    },
    {
      "cell_type": "markdown",
      "metadata": {
        "id": "wIJ0cm7h_6JA",
        "colab_type": "text"
      },
      "source": [
        "Unlike some other programming languages, integers in Python can be arbirarily large (or small). There's no lowest or highest value for integers, and there's just one `int` type (as opposed to `short`, `int`, `long`, `long long`, `unsigned int` etc. in C/C++/Java)."
      ]
    },
    {
      "cell_type": "code",
      "metadata": {
        "id": "Jv0dip7E_6JT",
        "colab_type": "code",
        "colab": {}
      },
      "source": [
        "a_large_negative_number = -23374038374832934334234317348343"
      ],
      "execution_count": null,
      "outputs": []
    },
    {
      "cell_type": "code",
      "metadata": {
        "id": "4pnR66o-_6Je",
        "colab_type": "code",
        "colab": {},
        "outputId": "30d6a0af-9a2d-4536-92ef-f1b858d42d0b"
      },
      "source": [
        "a_large_negative_number"
      ],
      "execution_count": null,
      "outputs": [
        {
          "output_type": "execute_result",
          "data": {
            "text/plain": [
              "-23374038374832934334234317348343"
            ]
          },
          "metadata": {
            "tags": []
          },
          "execution_count": 27
        }
      ]
    },
    {
      "cell_type": "code",
      "metadata": {
        "id": "I55SacMf_6Jr",
        "colab_type": "code",
        "colab": {},
        "outputId": "bc067450-d0ea-4b05-ab6c-af8636aa9950"
      },
      "source": [
        "type(a_large_negative_number)"
      ],
      "execution_count": null,
      "outputs": [
        {
          "output_type": "execute_result",
          "data": {
            "text/plain": [
              "int"
            ]
          },
          "metadata": {
            "tags": []
          },
          "execution_count": 28
        }
      ]
    },
    {
      "cell_type": "markdown",
      "metadata": {
        "id": "_zhMl0z9_6KA",
        "colab_type": "text"
      },
      "source": [
        "### Float\n",
        "\n",
        "Floats (or floating point numbers) are numbers with a decimal point. There are no limits on the value of a float or the number of digits before or after the decimal point. Floating point numbers have the type `float`."
      ]
    },
    {
      "cell_type": "code",
      "metadata": {
        "id": "Hs31lg1G_6KC",
        "colab_type": "code",
        "colab": {}
      },
      "source": [
        "pi = 3.141592653589793238"
      ],
      "execution_count": null,
      "outputs": []
    },
    {
      "cell_type": "code",
      "metadata": {
        "id": "0aIVliFE_6Ke",
        "colab_type": "code",
        "colab": {},
        "outputId": "0b672757-877a-492e-9287-8367e315f162"
      },
      "source": [
        "pi"
      ],
      "execution_count": null,
      "outputs": [
        {
          "output_type": "execute_result",
          "data": {
            "text/plain": [
              "3.141592653589793"
            ]
          },
          "metadata": {
            "tags": []
          },
          "execution_count": 30
        }
      ]
    },
    {
      "cell_type": "code",
      "metadata": {
        "id": "zuiNOen7_6Kw",
        "colab_type": "code",
        "colab": {},
        "outputId": "31e1b8af-89fc-480d-dd59-064a5d7ab7fd"
      },
      "source": [
        "type(pi)"
      ],
      "execution_count": null,
      "outputs": [
        {
          "output_type": "execute_result",
          "data": {
            "text/plain": [
              "float"
            ]
          },
          "metadata": {
            "tags": []
          },
          "execution_count": 31
        }
      ]
    },
    {
      "cell_type": "markdown",
      "metadata": {
        "id": "u90Sxl6I_6K9",
        "colab_type": "text"
      },
      "source": [
        "Note that a whole number is treated as a float if it is written with a decimal point, even though the decimal portion of the number is zero."
      ]
    },
    {
      "cell_type": "code",
      "metadata": {
        "id": "g1oEuvD0_6LB",
        "colab_type": "code",
        "colab": {}
      },
      "source": [
        "a_number = 3.0"
      ],
      "execution_count": null,
      "outputs": []
    },
    {
      "cell_type": "code",
      "metadata": {
        "id": "3akPHenk_6LZ",
        "colab_type": "code",
        "colab": {},
        "outputId": "ac515f2a-5040-4dc6-8141-40be569e3e03"
      },
      "source": [
        "a_number"
      ],
      "execution_count": null,
      "outputs": [
        {
          "output_type": "execute_result",
          "data": {
            "text/plain": [
              "3.0"
            ]
          },
          "metadata": {
            "tags": []
          },
          "execution_count": 33
        }
      ]
    },
    {
      "cell_type": "code",
      "metadata": {
        "id": "bADcmsKG_6Ln",
        "colab_type": "code",
        "colab": {},
        "outputId": "62528351-8363-424e-c800-bb6203c702e2"
      },
      "source": [
        "type(a_number)"
      ],
      "execution_count": null,
      "outputs": [
        {
          "output_type": "execute_result",
          "data": {
            "text/plain": [
              "float"
            ]
          },
          "metadata": {
            "tags": []
          },
          "execution_count": 34
        }
      ]
    },
    {
      "cell_type": "code",
      "metadata": {
        "id": "6kJuhxlH_6MX",
        "colab_type": "code",
        "colab": {}
      },
      "source": [
        "another_number = 4."
      ],
      "execution_count": null,
      "outputs": []
    },
    {
      "cell_type": "code",
      "metadata": {
        "id": "0yLPLzCu_6Ml",
        "colab_type": "code",
        "colab": {},
        "outputId": "c9b97b6a-bf57-417f-be40-0f270762b065"
      },
      "source": [
        "another_number"
      ],
      "execution_count": null,
      "outputs": [
        {
          "output_type": "execute_result",
          "data": {
            "text/plain": [
              "4.0"
            ]
          },
          "metadata": {
            "tags": []
          },
          "execution_count": 36
        }
      ]
    },
    {
      "cell_type": "code",
      "metadata": {
        "id": "H819R1lO_6NC",
        "colab_type": "code",
        "colab": {},
        "outputId": "4ce6f2b3-ff66-4e73-867e-082a5816fdd3"
      },
      "source": [
        "type(another_number)"
      ],
      "execution_count": null,
      "outputs": [
        {
          "output_type": "execute_result",
          "data": {
            "text/plain": [
              "float"
            ]
          },
          "metadata": {
            "tags": []
          },
          "execution_count": 37
        }
      ]
    },
    {
      "cell_type": "markdown",
      "metadata": {
        "id": "GCOYc-LJ_6NP",
        "colab_type": "text"
      },
      "source": [
        "Floating point numbers can also be written using the scientific notation with an \"e\" to indicate the power of 10."
      ]
    },
    {
      "cell_type": "code",
      "metadata": {
        "id": "-_6aTykc_6NR",
        "colab_type": "code",
        "colab": {}
      },
      "source": [
        "one_hundredth = 1e-2"
      ],
      "execution_count": null,
      "outputs": []
    },
    {
      "cell_type": "code",
      "metadata": {
        "id": "A7Jg7m7I_6Nh",
        "colab_type": "code",
        "colab": {},
        "outputId": "25e13f09-4787-49c1-e9ac-cc5ca8fda28e"
      },
      "source": [
        "one_hundredth"
      ],
      "execution_count": null,
      "outputs": [
        {
          "output_type": "execute_result",
          "data": {
            "text/plain": [
              "0.01"
            ]
          },
          "metadata": {
            "tags": []
          },
          "execution_count": 39
        }
      ]
    },
    {
      "cell_type": "code",
      "metadata": {
        "id": "XdMx-XuT_6Nw",
        "colab_type": "code",
        "colab": {},
        "outputId": "1b6f7dbb-d7ce-4c97-eacd-998fd55b1dfc"
      },
      "source": [
        "type(one_hundredth)"
      ],
      "execution_count": null,
      "outputs": [
        {
          "output_type": "execute_result",
          "data": {
            "text/plain": [
              "float"
            ]
          },
          "metadata": {
            "tags": []
          },
          "execution_count": 40
        }
      ]
    },
    {
      "cell_type": "code",
      "metadata": {
        "id": "1ODxE_iM_6OI",
        "colab_type": "code",
        "colab": {}
      },
      "source": [
        "avogadro_number = 6.02214076e23"
      ],
      "execution_count": null,
      "outputs": []
    },
    {
      "cell_type": "code",
      "metadata": {
        "id": "XvUxnOuV_6Of",
        "colab_type": "code",
        "colab": {},
        "outputId": "4a817754-b63e-4251-b54a-669319e4cb41"
      },
      "source": [
        "avogadro_number"
      ],
      "execution_count": null,
      "outputs": [
        {
          "output_type": "execute_result",
          "data": {
            "text/plain": [
              "6.02214076e+23"
            ]
          },
          "metadata": {
            "tags": []
          },
          "execution_count": 42
        }
      ]
    },
    {
      "cell_type": "code",
      "metadata": {
        "id": "9nlTOdDF_6Om",
        "colab_type": "code",
        "colab": {},
        "outputId": "7cee8d21-b683-43d5-fb15-9282e3c02d25"
      },
      "source": [
        "type(avogadro_number)"
      ],
      "execution_count": null,
      "outputs": [
        {
          "output_type": "execute_result",
          "data": {
            "text/plain": [
              "float"
            ]
          },
          "metadata": {
            "tags": []
          },
          "execution_count": 43
        }
      ]
    },
    {
      "cell_type": "markdown",
      "metadata": {
        "id": "n5IRMfel_6Ox",
        "colab_type": "text"
      },
      "source": [
        "Floats can be converted into integers and vice versa using the `float` and `int` functions. The operation of coverting one type of value into another is called casting."
      ]
    },
    {
      "cell_type": "code",
      "metadata": {
        "id": "Ojnhy9H7_6Oy",
        "colab_type": "code",
        "colab": {},
        "outputId": "3ef2c889-f673-417a-85be-93b1f2f646ea"
      },
      "source": [
        "float(current_year)"
      ],
      "execution_count": null,
      "outputs": [
        {
          "output_type": "execute_result",
          "data": {
            "text/plain": [
              "2020.0"
            ]
          },
          "metadata": {
            "tags": []
          },
          "execution_count": 44
        }
      ]
    },
    {
      "cell_type": "code",
      "metadata": {
        "id": "rDYPwrNs_6O9",
        "colab_type": "code",
        "colab": {},
        "outputId": "746a2d24-30a5-4d5b-d5ff-2b5362f39a03"
      },
      "source": [
        "float(a_large_negative_number)"
      ],
      "execution_count": null,
      "outputs": [
        {
          "output_type": "execute_result",
          "data": {
            "text/plain": [
              "-2.3374038374832935e+31"
            ]
          },
          "metadata": {
            "tags": []
          },
          "execution_count": 45
        }
      ]
    },
    {
      "cell_type": "code",
      "metadata": {
        "id": "m2857hDO_6PV",
        "colab_type": "code",
        "colab": {},
        "outputId": "c462d028-d559-4afa-c574-00ada1777efe"
      },
      "source": [
        "int(pi)"
      ],
      "execution_count": null,
      "outputs": [
        {
          "output_type": "execute_result",
          "data": {
            "text/plain": [
              "3"
            ]
          },
          "metadata": {
            "tags": []
          },
          "execution_count": 46
        }
      ]
    },
    {
      "cell_type": "code",
      "metadata": {
        "id": "yqRepp5N_6Pj",
        "colab_type": "code",
        "colab": {},
        "outputId": "ee0e5a1a-dafc-4cc4-85e4-3badab6de9ff"
      },
      "source": [
        "int(avogadro_number)"
      ],
      "execution_count": null,
      "outputs": [
        {
          "output_type": "execute_result",
          "data": {
            "text/plain": [
              "602214075999999987023872"
            ]
          },
          "metadata": {
            "tags": []
          },
          "execution_count": 47
        }
      ]
    },
    {
      "cell_type": "markdown",
      "metadata": {
        "id": "4cQPyvZp_6Pr",
        "colab_type": "text"
      },
      "source": [
        "While performing arithmetic operations, integers are automatically converted to floats if any of the operands is a float. Also, the division operator `/` always returns a float, even if both operands are integers. Use the `//` operator if you want the result of division to be an `int`."
      ]
    },
    {
      "cell_type": "code",
      "metadata": {
        "id": "oS4SLrwk_6Pt",
        "colab_type": "code",
        "colab": {},
        "outputId": "9a611373-c5e2-4fb5-b1e2-2300f4669827"
      },
      "source": [
        "type(45 * 3.0)"
      ],
      "execution_count": null,
      "outputs": [
        {
          "output_type": "execute_result",
          "data": {
            "text/plain": [
              "float"
            ]
          },
          "metadata": {
            "tags": []
          },
          "execution_count": 48
        }
      ]
    },
    {
      "cell_type": "code",
      "metadata": {
        "id": "qreSiU6C_6P4",
        "colab_type": "code",
        "colab": {},
        "outputId": "3d9132d7-f227-4d2a-e2bc-b30a9ef49f75"
      },
      "source": [
        "type(45 * 3)"
      ],
      "execution_count": null,
      "outputs": [
        {
          "output_type": "execute_result",
          "data": {
            "text/plain": [
              "int"
            ]
          },
          "metadata": {
            "tags": []
          },
          "execution_count": 49
        }
      ]
    },
    {
      "cell_type": "code",
      "metadata": {
        "id": "XHKx7dOl_6P_",
        "colab_type": "code",
        "colab": {},
        "outputId": "fe2d23ce-17f7-41ad-faf1-e9fcc5511f5e"
      },
      "source": [
        "type(10/3)"
      ],
      "execution_count": null,
      "outputs": [
        {
          "output_type": "execute_result",
          "data": {
            "text/plain": [
              "float"
            ]
          },
          "metadata": {
            "tags": []
          },
          "execution_count": 50
        }
      ]
    },
    {
      "cell_type": "code",
      "metadata": {
        "id": "8uu4bGBU_6QG",
        "colab_type": "code",
        "colab": {},
        "outputId": "6b62429e-80b9-4285-cbda-49b1d1302c59"
      },
      "source": [
        "type(10/2)"
      ],
      "execution_count": null,
      "outputs": [
        {
          "output_type": "execute_result",
          "data": {
            "text/plain": [
              "float"
            ]
          },
          "metadata": {
            "tags": []
          },
          "execution_count": 52
        }
      ]
    },
    {
      "cell_type": "code",
      "metadata": {
        "id": "ln11dmRX_6QM",
        "colab_type": "code",
        "colab": {},
        "outputId": "0093ff47-1800-4cc0-fb66-e1f4086f18bc"
      },
      "source": [
        "type(10//2)"
      ],
      "execution_count": null,
      "outputs": [
        {
          "output_type": "execute_result",
          "data": {
            "text/plain": [
              "int"
            ]
          },
          "metadata": {
            "tags": []
          },
          "execution_count": 53
        }
      ]
    },
    {
      "cell_type": "markdown",
      "metadata": {
        "id": "j9Z3Bu-G_6QU",
        "colab_type": "text"
      },
      "source": [
        "### Boolean\n",
        "\n",
        "Booleans represent one of 2 values: `True` and `False`. Booleans have the type `bool`."
      ]
    },
    {
      "cell_type": "code",
      "metadata": {
        "id": "CBMYWwqk_6QV",
        "colab_type": "code",
        "colab": {}
      },
      "source": [
        "is_today_Sunday = True"
      ],
      "execution_count": null,
      "outputs": []
    },
    {
      "cell_type": "code",
      "metadata": {
        "id": "zKwCXMJu_6Qd",
        "colab_type": "code",
        "colab": {},
        "outputId": "ae752d5e-e158-4f18-9c97-524d1cac3943"
      },
      "source": [
        "is_today_Sunday"
      ],
      "execution_count": null,
      "outputs": [
        {
          "output_type": "execute_result",
          "data": {
            "text/plain": [
              "True"
            ]
          },
          "metadata": {
            "tags": []
          },
          "execution_count": 55
        }
      ]
    },
    {
      "cell_type": "code",
      "metadata": {
        "id": "cPqUwbfF_6Q0",
        "colab_type": "code",
        "colab": {},
        "outputId": "922a7159-8bcc-4316-c51a-174922199df2"
      },
      "source": [
        "type(is_today_Saturday)"
      ],
      "execution_count": null,
      "outputs": [
        {
          "output_type": "execute_result",
          "data": {
            "text/plain": [
              "bool"
            ]
          },
          "metadata": {
            "tags": []
          },
          "execution_count": 56
        }
      ]
    },
    {
      "cell_type": "markdown",
      "metadata": {
        "id": "p736JnaX_6Q7",
        "colab_type": "text"
      },
      "source": [
        "Booleans are generally returned as the result of a comparision operation (e.g. `==`, `>=` etc.)."
      ]
    },
    {
      "cell_type": "code",
      "metadata": {
        "id": "uO5j-dgB_6Q8",
        "colab_type": "code",
        "colab": {}
      },
      "source": [
        "cost_of_ice_bag = 1.25\n",
        "is_ice_bag_expensive = cost_of_ice_bag >= 10"
      ],
      "execution_count": null,
      "outputs": []
    },
    {
      "cell_type": "code",
      "metadata": {
        "id": "wcikonU3_6RE",
        "colab_type": "code",
        "colab": {},
        "outputId": "849eeb33-9bda-43db-d0d1-44df5341e007"
      },
      "source": [
        "is_ice_bag_expensive"
      ],
      "execution_count": null,
      "outputs": [
        {
          "output_type": "execute_result",
          "data": {
            "text/plain": [
              "False"
            ]
          },
          "metadata": {
            "tags": []
          },
          "execution_count": 58
        }
      ]
    },
    {
      "cell_type": "code",
      "metadata": {
        "id": "LYX7ZvMJ_6RK",
        "colab_type": "code",
        "colab": {},
        "outputId": "bc98b235-3de3-4bcc-c6f1-3bcb377d7578"
      },
      "source": [
        "type(is_ice_bag_expensive)"
      ],
      "execution_count": null,
      "outputs": [
        {
          "output_type": "execute_result",
          "data": {
            "text/plain": [
              "bool"
            ]
          },
          "metadata": {
            "tags": []
          },
          "execution_count": 59
        }
      ]
    },
    {
      "cell_type": "markdown",
      "metadata": {
        "id": "gyyzH0Uo_6RR",
        "colab_type": "text"
      },
      "source": [
        "Booleans are automatically converted to `int`s when used in arithmetic operations. `True` is converted to `1` and `False` is converted to `0`."
      ]
    },
    {
      "cell_type": "code",
      "metadata": {
        "id": "WNSnpqxt_6RS",
        "colab_type": "code",
        "colab": {},
        "outputId": "8577ad9b-0c49-41a1-a87e-3bca6b790403"
      },
      "source": [
        "5 + False"
      ],
      "execution_count": null,
      "outputs": [
        {
          "output_type": "execute_result",
          "data": {
            "text/plain": [
              "5"
            ]
          },
          "metadata": {
            "tags": []
          },
          "execution_count": 60
        }
      ]
    },
    {
      "cell_type": "code",
      "metadata": {
        "id": "yPQoBz8-_6Rd",
        "colab_type": "code",
        "colab": {},
        "outputId": "5c64ed77-5f27-4a29-834c-6876ddaecaa0"
      },
      "source": [
        "3. + True"
      ],
      "execution_count": null,
      "outputs": [
        {
          "output_type": "execute_result",
          "data": {
            "text/plain": [
              "4.0"
            ]
          },
          "metadata": {
            "tags": []
          },
          "execution_count": 61
        }
      ]
    },
    {
      "cell_type": "markdown",
      "metadata": {
        "id": "QBr5F1gc_6Rm",
        "colab_type": "text"
      },
      "source": [
        "Any value in Python can be converted to a Boolean using the `bool` function. \n",
        "\n",
        "Only the following values evaluate to `False` (they are often called *falsy* values):\n",
        "\n",
        "1. The value `False` itself\n",
        "2. The integer `0`\n",
        "3. The float `0.0`\n",
        "4. The empty value `None`\n",
        "5. The empty text `\"\"`\n",
        "6. The empty list `[]`\n",
        "7. The empty tuple `()`\n",
        "8. The empty dictionary `{}`\n",
        "9. The emtpy set `set()`\n",
        "10. The empty range `range(0)`\n",
        "\n",
        "Everything else evaluates to `True` (a value that evalutes to `True` is often called a *truthy* value)."
      ]
    },
    {
      "cell_type": "code",
      "metadata": {
        "id": "KA1AOgSn_6Rr",
        "colab_type": "code",
        "colab": {},
        "outputId": "cb6d2498-3a83-4bbc-e314-0d3923690a02"
      },
      "source": [
        "bool(False)"
      ],
      "execution_count": null,
      "outputs": [
        {
          "output_type": "execute_result",
          "data": {
            "text/plain": [
              "False"
            ]
          },
          "metadata": {
            "tags": []
          },
          "execution_count": 62
        }
      ]
    },
    {
      "cell_type": "code",
      "metadata": {
        "id": "HZwrWIvW_6R1",
        "colab_type": "code",
        "colab": {},
        "outputId": "981d48ac-e89f-46df-8676-51384141521b"
      },
      "source": [
        "bool(0)"
      ],
      "execution_count": null,
      "outputs": [
        {
          "output_type": "execute_result",
          "data": {
            "text/plain": [
              "False"
            ]
          },
          "metadata": {
            "tags": []
          },
          "execution_count": 63
        }
      ]
    },
    {
      "cell_type": "code",
      "metadata": {
        "id": "zKfKP0j5_6R-",
        "colab_type": "code",
        "colab": {},
        "outputId": "1df58c67-5ec2-4b39-e597-80577ae9ddbd"
      },
      "source": [
        "bool(0.0)"
      ],
      "execution_count": null,
      "outputs": [
        {
          "output_type": "execute_result",
          "data": {
            "text/plain": [
              "False"
            ]
          },
          "metadata": {
            "tags": []
          },
          "execution_count": 64
        }
      ]
    },
    {
      "cell_type": "code",
      "metadata": {
        "id": "z1Jivh8f_6SD",
        "colab_type": "code",
        "colab": {},
        "outputId": "826bf745-30fb-4cb7-8ed3-6f0d0cba5929"
      },
      "source": [
        "bool(None)"
      ],
      "execution_count": null,
      "outputs": [
        {
          "output_type": "execute_result",
          "data": {
            "text/plain": [
              "False"
            ]
          },
          "metadata": {
            "tags": []
          },
          "execution_count": 65
        }
      ]
    },
    {
      "cell_type": "code",
      "metadata": {
        "id": "HUB3NW7e_6SJ",
        "colab_type": "code",
        "colab": {},
        "outputId": "bc7868e9-c1d5-4cb3-da7a-677e80e6cf26"
      },
      "source": [
        "bool(\"\")"
      ],
      "execution_count": null,
      "outputs": [
        {
          "output_type": "execute_result",
          "data": {
            "text/plain": [
              "False"
            ]
          },
          "metadata": {
            "tags": []
          },
          "execution_count": 66
        }
      ]
    },
    {
      "cell_type": "code",
      "metadata": {
        "id": "06jf2Djm_6SW",
        "colab_type": "code",
        "colab": {},
        "outputId": "d4397176-8866-44c6-b543-f480ffef1cff"
      },
      "source": [
        "bool([])"
      ],
      "execution_count": null,
      "outputs": [
        {
          "output_type": "execute_result",
          "data": {
            "text/plain": [
              "False"
            ]
          },
          "metadata": {
            "tags": []
          },
          "execution_count": 67
        }
      ]
    },
    {
      "cell_type": "code",
      "metadata": {
        "id": "0v597j6x_6Sc",
        "colab_type": "code",
        "colab": {},
        "outputId": "5147be9d-efce-49e5-d64d-9686fafb1231"
      },
      "source": [
        "bool(())"
      ],
      "execution_count": null,
      "outputs": [
        {
          "output_type": "execute_result",
          "data": {
            "text/plain": [
              "False"
            ]
          },
          "metadata": {
            "tags": []
          },
          "execution_count": 68
        }
      ]
    },
    {
      "cell_type": "code",
      "metadata": {
        "id": "yn7AkGDj_6Sr",
        "colab_type": "code",
        "colab": {},
        "outputId": "2933dcd4-c034-4a95-ead1-2c0d5678511a"
      },
      "source": [
        "bool({})"
      ],
      "execution_count": null,
      "outputs": [
        {
          "output_type": "execute_result",
          "data": {
            "text/plain": [
              "False"
            ]
          },
          "metadata": {
            "tags": []
          },
          "execution_count": 69
        }
      ]
    },
    {
      "cell_type": "code",
      "metadata": {
        "id": "Vcpu34wL_6S_",
        "colab_type": "code",
        "colab": {},
        "outputId": "2d403098-5dfe-4602-81d9-ca8b20a55903"
      },
      "source": [
        "bool(set())"
      ],
      "execution_count": null,
      "outputs": [
        {
          "output_type": "execute_result",
          "data": {
            "text/plain": [
              "False"
            ]
          },
          "metadata": {
            "tags": []
          },
          "execution_count": 70
        }
      ]
    },
    {
      "cell_type": "code",
      "metadata": {
        "id": "FjpcsuK7_6TI",
        "colab_type": "code",
        "colab": {},
        "outputId": "cd2db6ba-2b37-4da1-f598-9a14c14a848f"
      },
      "source": [
        "bool(range(0))"
      ],
      "execution_count": null,
      "outputs": [
        {
          "output_type": "execute_result",
          "data": {
            "text/plain": [
              "False"
            ]
          },
          "metadata": {
            "tags": []
          },
          "execution_count": 71
        }
      ]
    },
    {
      "cell_type": "code",
      "metadata": {
        "id": "xA23cJse_6TY",
        "colab_type": "code",
        "colab": {},
        "outputId": "4e8e2fb5-b847-4c6d-fe04-333ea05c94e0"
      },
      "source": [
        "bool(True), bool(1), bool(2.0), bool(\"hello\"), bool([1,2]), bool((2,3)), bool(range(10))"
      ],
      "execution_count": null,
      "outputs": [
        {
          "output_type": "execute_result",
          "data": {
            "text/plain": [
              "(True, True, True, True, True, True, True)"
            ]
          },
          "metadata": {
            "tags": []
          },
          "execution_count": 72
        }
      ]
    },
    {
      "cell_type": "markdown",
      "metadata": {
        "id": "GKwdu_-Z_6Tl",
        "colab_type": "text"
      },
      "source": [
        "### None\n",
        "\n",
        "The None type includes a single value `None`, used to indicate the absence of a value. `None` has the type `NoneType`. It is often used to declare a variable whose value may be assigned later."
      ]
    },
    {
      "cell_type": "code",
      "metadata": {
        "id": "Mo8azEgI_6To",
        "colab_type": "code",
        "colab": {}
      },
      "source": [
        "nothing = None"
      ],
      "execution_count": null,
      "outputs": []
    },
    {
      "cell_type": "code",
      "metadata": {
        "id": "ZNUh2aH__6T2",
        "colab_type": "code",
        "colab": {},
        "outputId": "7d511d13-18b4-4138-96ed-5f1e175b2bbe"
      },
      "source": [
        "type(nothing)"
      ],
      "execution_count": null,
      "outputs": [
        {
          "output_type": "execute_result",
          "data": {
            "text/plain": [
              "NoneType"
            ]
          },
          "metadata": {
            "tags": []
          },
          "execution_count": 74
        }
      ]
    },
    {
      "cell_type": "markdown",
      "metadata": {
        "id": "G4NFQczP_6UE",
        "colab_type": "text"
      },
      "source": [
        "### String\n",
        "\n",
        "A string is used to represent text (*a string of characters*) in Python. Strings must be surrounded using quotations (either the single quote `'` or the double quote `\"`). Strings have the type `string`."
      ]
    },
    {
      "cell_type": "code",
      "metadata": {
        "id": "8CXSmouB_6UF",
        "colab_type": "code",
        "colab": {}
      },
      "source": [
        "today = \"Saturday\""
      ],
      "execution_count": null,
      "outputs": []
    },
    {
      "cell_type": "code",
      "metadata": {
        "id": "puYyz03a_6Ul",
        "colab_type": "code",
        "colab": {},
        "outputId": "05abe28e-9197-42df-8a00-056709e05cce"
      },
      "source": [
        "today"
      ],
      "execution_count": null,
      "outputs": [
        {
          "output_type": "execute_result",
          "data": {
            "text/plain": [
              "'Saturday'"
            ]
          },
          "metadata": {
            "tags": []
          },
          "execution_count": 76
        }
      ]
    },
    {
      "cell_type": "code",
      "metadata": {
        "id": "Pvx8vMnV_6VB",
        "colab_type": "code",
        "colab": {},
        "outputId": "7f3d567f-0b64-4fba-9bdc-1bd993f30288"
      },
      "source": [
        "type(today)"
      ],
      "execution_count": null,
      "outputs": [
        {
          "output_type": "execute_result",
          "data": {
            "text/plain": [
              "str"
            ]
          },
          "metadata": {
            "tags": []
          },
          "execution_count": 77
        }
      ]
    },
    {
      "cell_type": "markdown",
      "metadata": {
        "id": "PEO36G0r_6VV",
        "colab_type": "text"
      },
      "source": [
        "You can use single quotes inside a string written with double quotes, and vice versa."
      ]
    },
    {
      "cell_type": "code",
      "metadata": {
        "id": "kC1rCl3z_6VY",
        "colab_type": "code",
        "colab": {}
      },
      "source": [
        "my_favorite_movie = \"One Flew over the Cuckoo's Nest\" "
      ],
      "execution_count": null,
      "outputs": []
    },
    {
      "cell_type": "code",
      "metadata": {
        "id": "S-WmO1rk_6V-",
        "colab_type": "code",
        "colab": {},
        "outputId": "d97b11ff-0571-447b-fb04-3e89db3701c3"
      },
      "source": [
        "my_favorite_movie"
      ],
      "execution_count": null,
      "outputs": [
        {
          "output_type": "execute_result",
          "data": {
            "text/plain": [
              "\"One Flew over the Cuckoo's Nest\""
            ]
          },
          "metadata": {
            "tags": []
          },
          "execution_count": 79
        }
      ]
    },
    {
      "cell_type": "code",
      "metadata": {
        "id": "fYBmHOuI_6WW",
        "colab_type": "code",
        "colab": {}
      },
      "source": [
        "my_favorite_pun = 'Thanks for explaining the word \"many\" to me, it means a lot.'"
      ],
      "execution_count": null,
      "outputs": []
    },
    {
      "cell_type": "code",
      "metadata": {
        "id": "NZnkUCJg_6YD",
        "colab_type": "code",
        "colab": {},
        "outputId": "b50da5ed-bad2-4003-c5a3-839086155b6c"
      },
      "source": [
        "my_favorite_pun"
      ],
      "execution_count": null,
      "outputs": [
        {
          "output_type": "execute_result",
          "data": {
            "text/plain": [
              "'Thanks for explaining the word \"many\" to me, it means a lot.'"
            ]
          },
          "metadata": {
            "tags": []
          },
          "execution_count": 81
        }
      ]
    },
    {
      "cell_type": "markdown",
      "metadata": {
        "id": "6ixp41Yh_6aQ",
        "colab_type": "text"
      },
      "source": [
        " **To use the a double quote within a string written with double quotes, *escape* the inner quotes by prefixing them with the `\\` character**"
      ]
    },
    {
      "cell_type": "code",
      "metadata": {
        "id": "AKN2jgxb_6aS",
        "colab_type": "code",
        "colab": {}
      },
      "source": [
        "another_pun = \"The first time I got a universal remote control, I thought to myself \\\"This changes everything\\\".\""
      ],
      "execution_count": null,
      "outputs": []
    },
    {
      "cell_type": "code",
      "metadata": {
        "id": "ytOuo52C_6bD",
        "colab_type": "code",
        "colab": {},
        "outputId": "10e75cd5-7445-4b6f-82c2-c11c669f0514"
      },
      "source": [
        "another_pun"
      ],
      "execution_count": null,
      "outputs": [
        {
          "output_type": "execute_result",
          "data": {
            "text/plain": [
              "'The first time I got a universal remote control, I thought to myself \"This changes everything\".'"
            ]
          },
          "metadata": {
            "tags": []
          },
          "execution_count": 83
        }
      ]
    },
    {
      "cell_type": "markdown",
      "metadata": {
        "id": "BDhougnY_6bX",
        "colab_type": "text"
      },
      "source": [
        "Strings created using single or double quotes must begin and end on the same line. To create multiline strings, use three single quotes `'''` or three double quotes `\"\"\"` to begin and end the string. Line breaks are represented using the newline character `\\n`."
      ]
    },
    {
      "cell_type": "code",
      "metadata": {
        "id": "T8OLhBXs_6bb",
        "colab_type": "code",
        "colab": {}
      },
      "source": [
        "yet_another_pun = '''Son: \"Dad, can you tell me what a solar eclipse is?\" \n",
        "Dad: \"No sun.\"'''"
      ],
      "execution_count": null,
      "outputs": []
    },
    {
      "cell_type": "code",
      "metadata": {
        "id": "-n4lDlW9_6b0",
        "colab_type": "code",
        "colab": {},
        "outputId": "05338b2b-2033-43ea-fd68-5ac62af9f6db"
      },
      "source": [
        "yet_another_pun"
      ],
      "execution_count": null,
      "outputs": [
        {
          "output_type": "execute_result",
          "data": {
            "text/plain": [
              "'Son: \"Dad, can you tell me what a solar eclipse is?\" \\nDad: \"No sun.\"'"
            ]
          },
          "metadata": {
            "tags": []
          },
          "execution_count": 85
        }
      ]
    },
    {
      "cell_type": "markdown",
      "metadata": {
        "id": "vGdJJSPx_6b_",
        "colab_type": "text"
      },
      "source": [
        "Multiline strings are best displayed using the `print` function."
      ]
    },
    {
      "cell_type": "code",
      "metadata": {
        "id": "b_rVjRVq_6cB",
        "colab_type": "code",
        "colab": {},
        "outputId": "74691cc1-b398-4ec1-b57d-3b747dd80903"
      },
      "source": [
        "print(yet_another_pun)"
      ],
      "execution_count": null,
      "outputs": [
        {
          "output_type": "stream",
          "text": [
            "Son: \"Dad, can you tell me what a solar eclipse is?\" \n",
            "Dad: \"No sun.\"\n"
          ],
          "name": "stdout"
        }
      ]
    },
    {
      "cell_type": "code",
      "metadata": {
        "id": "z36XbN28_6gi",
        "colab_type": "code",
        "colab": {}
      },
      "source": [
        "a_music_pun = \"\"\"\n",
        "Two windmills are standing in a field and one asks the other, \n",
        "\"What kind of music do you like?\"  \n",
        "\n",
        "The other says, \n",
        "\"I'm a big metal fan.\"\n",
        "\"\"\""
      ],
      "execution_count": null,
      "outputs": []
    },
    {
      "cell_type": "code",
      "metadata": {
        "id": "ovD51UAj_6hV",
        "colab_type": "code",
        "colab": {},
        "outputId": "26a50e27-7c98-42a5-9a6c-dede0efb7ac6"
      },
      "source": [
        "print(a_music_pun)"
      ],
      "execution_count": null,
      "outputs": [
        {
          "output_type": "stream",
          "text": [
            "\n",
            "Two windmills are standing in a field and one asks the other, \n",
            "\"What kind of music do you like?\"  \n",
            "\n",
            "The other says, \n",
            "\"I'm a big metal fan.\"\n",
            "\n"
          ],
          "name": "stdout"
        }
      ]
    },
    {
      "cell_type": "markdown",
      "metadata": {
        "id": "xF9Bc_vU_6h6",
        "colab_type": "text"
      },
      "source": [
        "You can check the length of a string using the `len` function."
      ]
    },
    {
      "cell_type": "code",
      "metadata": {
        "id": "9W8DOhL8_6h8",
        "colab_type": "code",
        "colab": {},
        "outputId": "1a6e797a-b7cd-4db2-a033-322b7b446004"
      },
      "source": [
        "len(my_favorite_movie)"
      ],
      "execution_count": null,
      "outputs": [
        {
          "output_type": "execute_result",
          "data": {
            "text/plain": [
              "31"
            ]
          },
          "metadata": {
            "tags": []
          },
          "execution_count": 90
        }
      ]
    },
    {
      "cell_type": "markdown",
      "metadata": {
        "id": "6Q8-exYi_6iN",
        "colab_type": "text"
      },
      "source": [
        "Note that special characters like `\\n` and escaped characters like `\\\"` count as a single character, even though they are written and sometimes printed as 2 characters."
      ]
    },
    {
      "cell_type": "code",
      "metadata": {
        "id": "JCqvnL_f_6iU",
        "colab_type": "code",
        "colab": {},
        "outputId": "40965f57-3ff8-4416-be8a-a9c56b5f753e"
      },
      "source": [
        "multiline_string = \"\"\"a\n",
        "b\"\"\"\n",
        "multiline_string"
      ],
      "execution_count": null,
      "outputs": [
        {
          "output_type": "execute_result",
          "data": {
            "text/plain": [
              "'a\\nb'"
            ]
          },
          "metadata": {
            "tags": []
          },
          "execution_count": 92
        }
      ]
    },
    {
      "cell_type": "code",
      "metadata": {
        "id": "cJDKPsVi_6id",
        "colab_type": "code",
        "colab": {},
        "outputId": "f00bdfd7-624f-4b6f-95bb-b06a53ce2228"
      },
      "source": [
        "len(multiline_string)"
      ],
      "execution_count": null,
      "outputs": [
        {
          "output_type": "execute_result",
          "data": {
            "text/plain": [
              "3"
            ]
          },
          "metadata": {
            "tags": []
          },
          "execution_count": 93
        }
      ]
    },
    {
      "cell_type": "markdown",
      "metadata": {
        "id": "qcxwxegn_6iy",
        "colab_type": "text"
      },
      "source": [
        "A string can be converted into a list of characters using `list` function."
      ]
    },
    {
      "cell_type": "code",
      "metadata": {
        "id": "XGethTl-_6iz",
        "colab_type": "code",
        "colab": {},
        "outputId": "d557b03d-5613-43e5-d921-afff4e9443e9"
      },
      "source": [
        "list(multiline_string)"
      ],
      "execution_count": null,
      "outputs": [
        {
          "output_type": "execute_result",
          "data": {
            "text/plain": [
              "['a', '\\n', 'b']"
            ]
          },
          "metadata": {
            "tags": []
          },
          "execution_count": 94
        }
      ]
    },
    {
      "cell_type": "markdown",
      "metadata": {
        "id": "8-17aDnF_6kP",
        "colab_type": "text"
      },
      "source": [
        "Strings also support several list operations, which are discussed in the next section. We'll look at a couple of examples here.\n",
        "\n",
        "You can access individual characters within a string using the `[]` indexing notation. Note the character indices go from `0` to `n-1`, where `n` is the length of the string."
      ]
    },
    {
      "cell_type": "code",
      "metadata": {
        "id": "jBAJlDVo_6k8",
        "colab_type": "code",
        "colab": {}
      },
      "source": [
        "today = \"Saturday\""
      ],
      "execution_count": null,
      "outputs": []
    },
    {
      "cell_type": "code",
      "metadata": {
        "id": "ZNGHAQ4Y_6lo",
        "colab_type": "code",
        "colab": {},
        "outputId": "4132838d-dd00-4185-f7ad-84e1cbfbe509"
      },
      "source": [
        "today[0]"
      ],
      "execution_count": null,
      "outputs": [
        {
          "output_type": "execute_result",
          "data": {
            "text/plain": [
              "'S'"
            ]
          },
          "metadata": {
            "tags": []
          },
          "execution_count": 96
        }
      ]
    },
    {
      "cell_type": "code",
      "metadata": {
        "id": "TMmfIKCt_6mU",
        "colab_type": "code",
        "colab": {},
        "outputId": "d264e9ae-e966-4a09-d1f2-940ede319c2c"
      },
      "source": [
        "today[3]"
      ],
      "execution_count": null,
      "outputs": [
        {
          "output_type": "execute_result",
          "data": {
            "text/plain": [
              "'u'"
            ]
          },
          "metadata": {
            "tags": []
          },
          "execution_count": 97
        }
      ]
    },
    {
      "cell_type": "code",
      "metadata": {
        "id": "edoHWhgG_6ni",
        "colab_type": "code",
        "colab": {},
        "outputId": "58a00e00-559b-4b60-9e99-6169c6064fe7"
      },
      "source": [
        "today[7]"
      ],
      "execution_count": null,
      "outputs": [
        {
          "output_type": "execute_result",
          "data": {
            "text/plain": [
              "'y'"
            ]
          },
          "metadata": {
            "tags": []
          },
          "execution_count": 98
        }
      ]
    },
    {
      "cell_type": "markdown",
      "metadata": {
        "id": "nUow0W5n_6oQ",
        "colab_type": "text"
      },
      "source": [
        "You can access a part of a string using by providing a `start:end` range instead of a single index in `[]`."
      ]
    },
    {
      "cell_type": "code",
      "metadata": {
        "id": "1C1GAqmS_6oa",
        "colab_type": "code",
        "colab": {},
        "outputId": "dceea41d-3e36-4b68-a441-963aa23ada62"
      },
      "source": [
        "today[5:8]"
      ],
      "execution_count": null,
      "outputs": [
        {
          "output_type": "execute_result",
          "data": {
            "text/plain": [
              "'day'"
            ]
          },
          "metadata": {
            "tags": []
          },
          "execution_count": 99
        }
      ]
    },
    {
      "cell_type": "markdown",
      "metadata": {
        "id": "hoVkuTTl_6on",
        "colab_type": "text"
      },
      "source": [
        "You can also check whether a string contains a some text using the `in` operator. "
      ]
    },
    {
      "cell_type": "code",
      "metadata": {
        "id": "fe5z5uAh_6op",
        "colab_type": "code",
        "colab": {},
        "outputId": "804f7202-b6fe-463f-f6ba-9c179d11d8e5"
      },
      "source": [
        "'day' in today"
      ],
      "execution_count": null,
      "outputs": [
        {
          "output_type": "execute_result",
          "data": {
            "text/plain": [
              "True"
            ]
          },
          "metadata": {
            "tags": []
          },
          "execution_count": 100
        }
      ]
    },
    {
      "cell_type": "code",
      "metadata": {
        "id": "RRTu0xju_6ow",
        "colab_type": "code",
        "colab": {},
        "outputId": "2d7e5643-8df3-4aaf-f446-b6e1de9731bd"
      },
      "source": [
        "'Sun' in today"
      ],
      "execution_count": null,
      "outputs": [
        {
          "output_type": "execute_result",
          "data": {
            "text/plain": [
              "False"
            ]
          },
          "metadata": {
            "tags": []
          },
          "execution_count": 101
        }
      ]
    },
    {
      "cell_type": "markdown",
      "metadata": {
        "id": "FzR8lZlM_6pQ",
        "colab_type": "text"
      },
      "source": [
        "Two or more strings can be joined or *concatenated* using the `+` operator. Be careful while concatenating strings, sometimes you may need to add a space character `\" \"` between words."
      ]
    },
    {
      "cell_type": "code",
      "metadata": {
        "id": "NPCwVkyT_6pV",
        "colab_type": "code",
        "colab": {}
      },
      "source": [
        "full_name = \"Derek O'Brien\""
      ],
      "execution_count": null,
      "outputs": []
    },
    {
      "cell_type": "code",
      "metadata": {
        "id": "kvh0uxfF_6pt",
        "colab_type": "code",
        "colab": {}
      },
      "source": [
        "greeting = \"Hello\""
      ],
      "execution_count": null,
      "outputs": []
    },
    {
      "cell_type": "code",
      "metadata": {
        "id": "O7EIbxJ2_6qC",
        "colab_type": "code",
        "colab": {},
        "outputId": "599a3cba-4a69-4ff7-d2a8-8b8e48284b7b"
      },
      "source": [
        "greeting + full_name"
      ],
      "execution_count": null,
      "outputs": [
        {
          "output_type": "execute_result",
          "data": {
            "text/plain": [
              "\"HelloDerek O'Brien\""
            ]
          },
          "metadata": {
            "tags": []
          },
          "execution_count": 104
        }
      ]
    },
    {
      "cell_type": "code",
      "metadata": {
        "id": "ZG7GDZ-j_6qP",
        "colab_type": "code",
        "colab": {},
        "outputId": "074768c2-0ce2-468a-c9bd-d3feebe919df"
      },
      "source": [
        "greeting + \" \" + full_name + \"!\" # additional space"
      ],
      "execution_count": null,
      "outputs": [
        {
          "output_type": "execute_result",
          "data": {
            "text/plain": [
              "\"Hello Derek O'Brien!\""
            ]
          },
          "metadata": {
            "tags": []
          },
          "execution_count": 105
        }
      ]
    },
    {
      "cell_type": "markdown",
      "metadata": {
        "id": "IOUMY5gQ_6qa",
        "colab_type": "text"
      },
      "source": [
        "String in Python have many built-in *methods* that can be used to manipulate them. Let's try out some common string methods.\n",
        "\n",
        "> **Methods**: Methods are functions associated with data types, and are accessed using the `.` notatation e.g. `variable_name.method()` or `\"a string\".method()`. Methods are a powerful technique for associating common operations with values of specific data types.\n",
        "\n",
        "The `.lower()`, `.upper()` and `.capitalize()` methods are used to change the case of the characters."
      ]
    },
    {
      "cell_type": "code",
      "metadata": {
        "id": "Fa6kw_kY_6qc",
        "colab_type": "code",
        "colab": {},
        "outputId": "c2fdbe5d-3a23-449a-c3d0-8cba9a0ddd13"
      },
      "source": [
        "today.lower()"
      ],
      "execution_count": null,
      "outputs": [
        {
          "output_type": "execute_result",
          "data": {
            "text/plain": [
              "'saturday'"
            ]
          },
          "metadata": {
            "tags": []
          },
          "execution_count": 106
        }
      ]
    },
    {
      "cell_type": "code",
      "metadata": {
        "id": "fKKNHEg1_6qi",
        "colab_type": "code",
        "colab": {},
        "outputId": "88be1b4d-c9e3-4ef8-cc53-ac64fb03895a"
      },
      "source": [
        "\"saturday\".upper()"
      ],
      "execution_count": null,
      "outputs": [
        {
          "output_type": "execute_result",
          "data": {
            "text/plain": [
              "'SATURDAY'"
            ]
          },
          "metadata": {
            "tags": []
          },
          "execution_count": 107
        }
      ]
    },
    {
      "cell_type": "code",
      "metadata": {
        "id": "GpbCrbly_6qx",
        "colab_type": "code",
        "colab": {},
        "outputId": "f1bac6dc-06d1-4117-c2ca-0e18b5fe40a7"
      },
      "source": [
        "\"monday\".capitalize() # changes first character to uppercase"
      ],
      "execution_count": null,
      "outputs": [
        {
          "output_type": "execute_result",
          "data": {
            "text/plain": [
              "'Monday'"
            ]
          },
          "metadata": {
            "tags": []
          },
          "execution_count": 108
        }
      ]
    },
    {
      "cell_type": "markdown",
      "metadata": {
        "id": "OcRf4cXI_6q8",
        "colab_type": "text"
      },
      "source": [
        "The `.replace` method is used to replace a part of the string with another string. It takes the portion to be replaced and the replacement text as *inputs* or *arguments*."
      ]
    },
    {
      "cell_type": "code",
      "metadata": {
        "id": "JmBAAYRj_6q9",
        "colab_type": "code",
        "colab": {}
      },
      "source": [
        "another_day = today.replace(\"Satur\", \"Wednes\")"
      ],
      "execution_count": null,
      "outputs": []
    },
    {
      "cell_type": "code",
      "metadata": {
        "id": "jqhHMyXf_6rG",
        "colab_type": "code",
        "colab": {},
        "outputId": "7a4fc213-83ac-4c7d-e958-2136e95260ef"
      },
      "source": [
        "another_day"
      ],
      "execution_count": null,
      "outputs": [
        {
          "output_type": "execute_result",
          "data": {
            "text/plain": [
              "'Wednesday'"
            ]
          },
          "metadata": {
            "tags": []
          },
          "execution_count": 110
        }
      ]
    },
    {
      "cell_type": "markdown",
      "metadata": {
        "id": "pbu9KMtz_6rT",
        "colab_type": "text"
      },
      "source": [
        "Note that a new string is returned, and the original string is not modified."
      ]
    },
    {
      "cell_type": "code",
      "metadata": {
        "id": "yJ9eL75H_6rV",
        "colab_type": "code",
        "colab": {},
        "outputId": "e722b755-0c7e-4878-a62c-7e3360edf65e"
      },
      "source": [
        "today"
      ],
      "execution_count": null,
      "outputs": [
        {
          "output_type": "execute_result",
          "data": {
            "text/plain": [
              "'Saturday'"
            ]
          },
          "metadata": {
            "tags": []
          },
          "execution_count": 111
        }
      ]
    },
    {
      "cell_type": "markdown",
      "metadata": {
        "id": "LCwm2ifR_6rc",
        "colab_type": "text"
      },
      "source": [
        "The `.split` method can be used to split a string into a list of strings based using the character(s) provided."
      ]
    },
    {
      "cell_type": "code",
      "metadata": {
        "id": "vfqhbCBd_6rd",
        "colab_type": "code",
        "colab": {},
        "outputId": "ba6d88f7-d72b-4e51-c3b5-e0071713d6d0"
      },
      "source": [
        "\"Sun,Mon,Tue,Wed,Thu,Fri,Sat\".split(\",\")"
      ],
      "execution_count": null,
      "outputs": [
        {
          "output_type": "execute_result",
          "data": {
            "text/plain": [
              "['Sun', 'Mon', 'Tue', 'Wed', 'Thu', 'Fri', 'Sat']"
            ]
          },
          "metadata": {
            "tags": []
          },
          "execution_count": 112
        }
      ]
    },
    {
      "cell_type": "markdown",
      "metadata": {
        "id": "VkFPPY5S_6rr",
        "colab_type": "text"
      },
      "source": [
        "The .strip method is used to remove whitespace characters from the beginning and end of a string."
      ]
    },
    {
      "cell_type": "code",
      "metadata": {
        "id": "Bh0tQ-np_6rs",
        "colab_type": "code",
        "colab": {}
      },
      "source": [
        "a_long_line = \"       This is a long line with some space before, after,     and some space in the middle..    \""
      ],
      "execution_count": null,
      "outputs": []
    },
    {
      "cell_type": "code",
      "metadata": {
        "id": "teWr-c96_6sV",
        "colab_type": "code",
        "colab": {}
      },
      "source": [
        "a_long_line_stripped = a_long_line.strip()"
      ],
      "execution_count": null,
      "outputs": []
    },
    {
      "cell_type": "code",
      "metadata": {
        "id": "1OWmrtYW_6sy",
        "colab_type": "code",
        "colab": {},
        "outputId": "8e972059-c399-44d2-dd5b-c494f9cd1d25"
      },
      "source": [
        "a_long_line_stripped"
      ],
      "execution_count": null,
      "outputs": [
        {
          "output_type": "execute_result",
          "data": {
            "text/plain": [
              "'This is a long line with some space before, after,     and some space in the middle..'"
            ]
          },
          "metadata": {
            "tags": []
          },
          "execution_count": 115
        }
      ]
    },
    {
      "cell_type": "markdown",
      "metadata": {
        "id": "MRVOnJDH_6tF",
        "colab_type": "text"
      },
      "source": [
        "The `.format` method is used to combine values of other data types e.g. integers, floats, booleans, lists etc. with strings. It is often used to create output messages for display."
      ]
    },
    {
      "cell_type": "code",
      "metadata": {
        "id": "QEdtglSO_6tG",
        "colab_type": "code",
        "colab": {},
        "outputId": "15d83213-34ab-49ad-c672-95d5ac06e68a"
      },
      "source": [
        "# Input variables\n",
        "cost_of_ice_bag = 1.25\n",
        "profit_margin = .2\n",
        "number_of_bags = 500\n",
        "\n",
        "# Template for output message\n",
        "output_template = \"\"\"If a grocery store sells ice bags at $ {} per bag, with a profit margin of {} %, \n",
        "then the total profit it makes by selling {} ice bags is $ {}.\"\"\"\n",
        "\n",
        "print(output_template)"
      ],
      "execution_count": null,
      "outputs": [
        {
          "output_type": "stream",
          "text": [
            "If a grocery store sells ice bags at $ {} per bag, with a profit margin of {} %, \n",
            "then the total profit it makes by selling {} ice bags is $ {}.\n"
          ],
          "name": "stdout"
        }
      ]
    },
    {
      "cell_type": "code",
      "metadata": {
        "id": "KKCJCWZm_6tj",
        "colab_type": "code",
        "colab": {},
        "outputId": "bf780077-6716-4d6d-cf98-f12d44c2d820"
      },
      "source": [
        "# Inserting values into the string\n",
        "total_profit = cost_of_ice_bag * profit_margin * number_of_bags\n",
        "output_message = output_template.format(cost_of_ice_bag, profit_margin*100, number_of_bags, total_profit)\n",
        "\n",
        "print(output_message)"
      ],
      "execution_count": null,
      "outputs": [
        {
          "output_type": "stream",
          "text": [
            "If a grocery store sells ice bags at $ 1.25 per bag, with a profit margin of 20.0 %, \n",
            "then the total profit it makes by selling 500 ice bags is $ 125.0.\n"
          ],
          "name": "stdout"
        }
      ]
    },
    {
      "cell_type": "markdown",
      "metadata": {
        "id": "SBbcE_1q_6tr",
        "colab_type": "text"
      },
      "source": [
        "Notice how the placeholders `{}` in the `output_template` string are replaced with the arguments provided to the `.format` method.\n",
        "\n",
        "It is also possible use the string concatenation operator `+` to combine strings with other values, however, those values must first be converted to strings using the `str` function."
      ]
    },
    {
      "cell_type": "code",
      "metadata": {
        "id": "rhiLdRp7_6ts",
        "colab_type": "code",
        "colab": {},
        "outputId": "5705526c-7c2a-440d-b5d7-7f91f1f5a144"
      },
      "source": [
        "\"If a grocery store sells ice bags at $ \" + cost_of_ice_bag + \", with a profit margin of \" + profit_margin"
      ],
      "execution_count": null,
      "outputs": [
        {
          "output_type": "error",
          "ename": "TypeError",
          "evalue": "can only concatenate str (not \"float\") to str",
          "traceback": [
            "\u001b[0;31m---------------------------------------------------------------------------\u001b[0m",
            "\u001b[0;31mTypeError\u001b[0m                                 Traceback (most recent call last)",
            "\u001b[0;32m<ipython-input-118-78b7958ec7cc>\u001b[0m in \u001b[0;36m<module>\u001b[0;34m\u001b[0m\n\u001b[0;32m----> 1\u001b[0;31m \u001b[0;34m\"If a grocery store sells ice bags at $ \"\u001b[0m \u001b[0;34m+\u001b[0m \u001b[0mcost_of_ice_bag\u001b[0m \u001b[0;34m+\u001b[0m \u001b[0;34m\", with a profit margin of \"\u001b[0m \u001b[0;34m+\u001b[0m \u001b[0mprofit_margin\u001b[0m\u001b[0;34m\u001b[0m\u001b[0;34m\u001b[0m\u001b[0m\n\u001b[0m",
            "\u001b[0;31mTypeError\u001b[0m: can only concatenate str (not \"float\") to str"
          ]
        }
      ]
    },
    {
      "cell_type": "code",
      "metadata": {
        "id": "ADUNeyTg_6tz",
        "colab_type": "code",
        "colab": {},
        "outputId": "2de73d8d-a17f-4114-fae0-13b05b77ea47"
      },
      "source": [
        "\"If a grocery store sells ice bags at $ \" + str(cost_of_ice_bag) + \", with a profit margin of \" + str(profit_margin)"
      ],
      "execution_count": null,
      "outputs": [
        {
          "output_type": "execute_result",
          "data": {
            "text/plain": [
              "'If a grocery store sells ice bags at $ 1.25, with a profit margin of 0.2'"
            ]
          },
          "metadata": {
            "tags": []
          },
          "execution_count": 119
        }
      ]
    },
    {
      "cell_type": "markdown",
      "metadata": {
        "id": "wZQWi1sj_6t5",
        "colab_type": "text"
      },
      "source": [
        "In fact, the `str` can be used to convert a value of any data type into a string."
      ]
    },
    {
      "cell_type": "code",
      "metadata": {
        "id": "_uMNLmCC_6t6",
        "colab_type": "code",
        "colab": {},
        "outputId": "72372160-e471-430b-e5c5-40b6e0d8d34c"
      },
      "source": [
        "str(23)"
      ],
      "execution_count": null,
      "outputs": [
        {
          "output_type": "execute_result",
          "data": {
            "text/plain": [
              "'23'"
            ]
          },
          "metadata": {
            "tags": []
          },
          "execution_count": 120
        }
      ]
    },
    {
      "cell_type": "code",
      "metadata": {
        "id": "-oUMeAqZ_6uC",
        "colab_type": "code",
        "colab": {},
        "outputId": "3ab23c18-6ef7-49da-c09e-cb0b3c0bbd79"
      },
      "source": [
        "str(23.432)"
      ],
      "execution_count": null,
      "outputs": [
        {
          "output_type": "execute_result",
          "data": {
            "text/plain": [
              "'23.432'"
            ]
          },
          "metadata": {
            "tags": []
          },
          "execution_count": 121
        }
      ]
    },
    {
      "cell_type": "code",
      "metadata": {
        "id": "CP0gHeqn_6uM",
        "colab_type": "code",
        "colab": {},
        "outputId": "3d5a6266-18bf-47c4-c9a5-6893f94e0b71"
      },
      "source": [
        "str(True)"
      ],
      "execution_count": null,
      "outputs": [
        {
          "output_type": "execute_result",
          "data": {
            "text/plain": [
              "'True'"
            ]
          },
          "metadata": {
            "tags": []
          },
          "execution_count": 122
        }
      ]
    },
    {
      "cell_type": "code",
      "metadata": {
        "id": "ADFx7Gdb_6ue",
        "colab_type": "code",
        "colab": {},
        "outputId": "f9643830-4fab-457a-b563-a078a6e74658"
      },
      "source": [
        "the_3_musketeers = [\"Athos\", \"Porthos\", \"Aramis\"]\n",
        "str(the_3_musketeers)"
      ],
      "execution_count": null,
      "outputs": [
        {
          "output_type": "execute_result",
          "data": {
            "text/plain": [
              "\"['Athos', 'Porthos', 'Aramis']\""
            ]
          },
          "metadata": {
            "tags": []
          },
          "execution_count": 123
        }
      ]
    },
    {
      "cell_type": "markdown",
      "metadata": {
        "id": "aq9R0dpJ_6uo",
        "colab_type": "text"
      },
      "source": [
        "Note that all string methods returns new values, and DO NOT change the existing string. You can find a full list of string methods here: https://www.w3schools.com/python/python_ref_string.asp. "
      ]
    },
    {
      "cell_type": "markdown",
      "metadata": {
        "id": "ccOpWqdh_6up",
        "colab_type": "text"
      },
      "source": [
        "Strings also support the comparision operators `==` and `!=` for checking whether two strings are equal"
      ]
    },
    {
      "cell_type": "code",
      "metadata": {
        "id": "m4s5705Z_6ur",
        "colab_type": "code",
        "colab": {}
      },
      "source": [
        "first_name = \"John\""
      ],
      "execution_count": null,
      "outputs": []
    },
    {
      "cell_type": "code",
      "metadata": {
        "id": "vP618fgJ_6ux",
        "colab_type": "code",
        "colab": {},
        "outputId": "04d57afc-e9ac-47ff-ec51-7ecc722f4d00"
      },
      "source": [
        "first_name == \"Doe\""
      ],
      "execution_count": null,
      "outputs": [
        {
          "output_type": "execute_result",
          "data": {
            "text/plain": [
              "False"
            ]
          },
          "metadata": {
            "tags": []
          },
          "execution_count": 125
        }
      ]
    },
    {
      "cell_type": "code",
      "metadata": {
        "id": "laxcC5YN_6u5",
        "colab_type": "code",
        "colab": {},
        "outputId": "ccf17638-531b-4ebc-f7a6-5d3c2c7dbfbd"
      },
      "source": [
        "first_name == \"John\""
      ],
      "execution_count": null,
      "outputs": [
        {
          "output_type": "execute_result",
          "data": {
            "text/plain": [
              "True"
            ]
          },
          "metadata": {
            "tags": []
          },
          "execution_count": 126
        }
      ]
    },
    {
      "cell_type": "code",
      "metadata": {
        "id": "IAnhnlbJ_6vG",
        "colab_type": "code",
        "colab": {},
        "outputId": "c149f846-133d-4620-e050-955d9ebd28eb"
      },
      "source": [
        "first_name != \"Jane\""
      ],
      "execution_count": null,
      "outputs": [
        {
          "output_type": "execute_result",
          "data": {
            "text/plain": [
              "True"
            ]
          },
          "metadata": {
            "tags": []
          },
          "execution_count": 127
        }
      ]
    },
    {
      "cell_type": "markdown",
      "metadata": {
        "id": "IfWYLz2__6vQ",
        "colab_type": "text"
      },
      "source": [
        "We've looked at the primitive data types in Python, and we're now ready to explore non-primitive data structures or containers.\n",
        "\n",
        "Before continuing, let us run `jovian.commit` once again to record another snapshot of our notebook."
      ]
    },
    {
      "cell_type": "code",
      "metadata": {
        "id": "GmcoNg83_6vT",
        "colab_type": "code",
        "colab": {},
        "outputId": "9180e6eb-abef-43a3-dab6-5a4f3a1b4fd9"
      },
      "source": [
        "jovian.commit()"
      ],
      "execution_count": null,
      "outputs": [
        {
          "output_type": "display_data",
          "data": {
            "application/javascript": [
              "window.require && require([\"base/js/namespace\"],function(Jupyter){Jupyter.notebook.save_checkpoint()})"
            ],
            "text/plain": [
              "<IPython.core.display.Javascript object>"
            ]
          },
          "metadata": {
            "tags": []
          }
        },
        {
          "output_type": "stream",
          "text": [
            "[jovian] Attempting to save notebook..\u001b[0m\n",
            "[jovian] Updating notebook \"aakashns/python-variables-and-data-types\" on https://jovian.ml/\u001b[0m\n",
            "[jovian] Uploading notebook..\u001b[0m\n",
            "[jovian] Capturing environment..\u001b[0m\n",
            "[jovian] Committed successfully! https://jovian.ml/aakashns/python-variables-and-data-types\u001b[0m\n"
          ],
          "name": "stdout"
        },
        {
          "output_type": "execute_result",
          "data": {
            "text/plain": [
              "'https://jovian.ml/aakashns/python-variables-and-data-types'"
            ]
          },
          "metadata": {
            "tags": []
          },
          "execution_count": 235
        }
      ]
    },
    {
      "cell_type": "markdown",
      "metadata": {
        "id": "i-vOH70n_6x0",
        "colab_type": "text"
      },
      "source": [
        "Running `jovian.commit` multiple times within a notebook automatically records new versions. You will continue to have access to all the previous versions of your notebook, using the versions dropdown on the Jovian.ml web interface."
      ]
    },
    {
      "cell_type": "markdown",
      "metadata": {
        "id": "h7diGaFP_6yD",
        "colab_type": "text"
      },
      "source": [
        "### List\n",
        "\n",
        "A list in Python is an ordered collection of values. Lists can hold values of different data types, and support operations to add, remove and change values. Lists have the type `list`.\n",
        "\n",
        "To create a list, enclose a list of values within square brackets `[` and `]`, separated by commas."
      ]
    },
    {
      "cell_type": "code",
      "metadata": {
        "id": "ut7AraVo_6yE",
        "colab_type": "code",
        "colab": {}
      },
      "source": [
        "fruits = ['apple', 'banana', 'cherry']"
      ],
      "execution_count": null,
      "outputs": []
    },
    {
      "cell_type": "code",
      "metadata": {
        "id": "zjY3T89t_6ye",
        "colab_type": "code",
        "colab": {},
        "outputId": "a319e074-b003-443f-eada-d7e13c05ed4b"
      },
      "source": [
        "fruits"
      ],
      "execution_count": null,
      "outputs": [
        {
          "output_type": "execute_result",
          "data": {
            "text/plain": [
              "['apple', 'banana', 'cherry']"
            ]
          },
          "metadata": {
            "tags": []
          },
          "execution_count": 129
        }
      ]
    },
    {
      "cell_type": "code",
      "metadata": {
        "id": "9PJk1K0z_6zv",
        "colab_type": "code",
        "colab": {},
        "outputId": "6b2a6c20-1b9f-465f-8caa-a8fd45c7add6"
      },
      "source": [
        "type(fruits)"
      ],
      "execution_count": null,
      "outputs": [
        {
          "output_type": "execute_result",
          "data": {
            "text/plain": [
              "list"
            ]
          },
          "metadata": {
            "tags": []
          },
          "execution_count": 130
        }
      ]
    },
    {
      "cell_type": "markdown",
      "metadata": {
        "id": "4cCSVje7_6z2",
        "colab_type": "text"
      },
      "source": [
        "Let's try creating a list containing values of different data types, including another list."
      ]
    },
    {
      "cell_type": "code",
      "metadata": {
        "id": "D6hlbaW0_6z3",
        "colab_type": "code",
        "colab": {}
      },
      "source": [
        "a_list = [23, 'hello', None, 3.14, fruits, 3 <= 5]"
      ],
      "execution_count": null,
      "outputs": []
    },
    {
      "cell_type": "code",
      "metadata": {
        "id": "2h1QeMpq_6z8",
        "colab_type": "code",
        "colab": {},
        "outputId": "1a37426b-a894-4527-f22b-166d3f349a0e"
      },
      "source": [
        "a_list"
      ],
      "execution_count": null,
      "outputs": [
        {
          "output_type": "execute_result",
          "data": {
            "text/plain": [
              "[23, 'hello', None, 3.14, ['apple', 'banana', 'cherry'], True]"
            ]
          },
          "metadata": {
            "tags": []
          },
          "execution_count": 132
        }
      ]
    },
    {
      "cell_type": "code",
      "metadata": {
        "id": "bozCg4u__60Q",
        "colab_type": "code",
        "colab": {}
      },
      "source": [
        "empty_list = []"
      ],
      "execution_count": null,
      "outputs": []
    },
    {
      "cell_type": "code",
      "metadata": {
        "id": "ylAYPCqO_60Z",
        "colab_type": "code",
        "colab": {},
        "outputId": "ac4b872b-c109-4cf5-b017-3cc23aa75b90"
      },
      "source": [
        "empty_list"
      ],
      "execution_count": null,
      "outputs": [
        {
          "output_type": "execute_result",
          "data": {
            "text/plain": [
              "[]"
            ]
          },
          "metadata": {
            "tags": []
          },
          "execution_count": 169
        }
      ]
    },
    {
      "cell_type": "markdown",
      "metadata": {
        "id": "ONcL6Z98_61V",
        "colab_type": "text"
      },
      "source": [
        "To determine the number of values in a list, use the `len` function. In general, the `len` function can be used to determine of values in several other data types."
      ]
    },
    {
      "cell_type": "code",
      "metadata": {
        "id": "pj4_ZBdR_61X",
        "colab_type": "code",
        "colab": {},
        "outputId": "2b7bbfb5-f7a4-4d57-8ddd-bf01c6152dcf"
      },
      "source": [
        "len(fruits)"
      ],
      "execution_count": null,
      "outputs": [
        {
          "output_type": "execute_result",
          "data": {
            "text/plain": [
              "3"
            ]
          },
          "metadata": {
            "tags": []
          },
          "execution_count": 133
        }
      ]
    },
    {
      "cell_type": "code",
      "metadata": {
        "id": "tBa3wfml_61c",
        "colab_type": "code",
        "colab": {},
        "outputId": "93e97115-3620-4dc8-dd57-d1538ee14ffa"
      },
      "source": [
        "print(\"Number of fruits:\", len(fruits))"
      ],
      "execution_count": null,
      "outputs": [
        {
          "output_type": "stream",
          "text": [
            "Number of fruits: 3\n"
          ],
          "name": "stdout"
        }
      ]
    },
    {
      "cell_type": "code",
      "metadata": {
        "id": "cO73maKB_61h",
        "colab_type": "code",
        "colab": {},
        "outputId": "1e64915e-6166-4cca-9e33-3e151cae08b7"
      },
      "source": [
        "len(a_list)"
      ],
      "execution_count": null,
      "outputs": [
        {
          "output_type": "execute_result",
          "data": {
            "text/plain": [
              "6"
            ]
          },
          "metadata": {
            "tags": []
          },
          "execution_count": 135
        }
      ]
    },
    {
      "cell_type": "code",
      "metadata": {
        "id": "y6MtGmBI_61l",
        "colab_type": "code",
        "colab": {},
        "outputId": "fc142d2d-43f4-4a28-d8d3-b8c40f480811"
      },
      "source": [
        "len(empty_list)"
      ],
      "execution_count": null,
      "outputs": [
        {
          "output_type": "execute_result",
          "data": {
            "text/plain": [
              "0"
            ]
          },
          "metadata": {
            "tags": []
          },
          "execution_count": 170
        }
      ]
    },
    {
      "cell_type": "markdown",
      "metadata": {
        "id": "tF-HVs_R_61s",
        "colab_type": "text"
      },
      "source": [
        "You can access the elements of a list using the the *index* of the element, starting from the index 0."
      ]
    },
    {
      "cell_type": "code",
      "metadata": {
        "id": "LMjPW-dp_61t",
        "colab_type": "code",
        "colab": {},
        "outputId": "06dce244-0ee1-4798-b828-8f2e8e514dc5"
      },
      "source": [
        "fruits[0]"
      ],
      "execution_count": null,
      "outputs": [
        {
          "output_type": "execute_result",
          "data": {
            "text/plain": [
              "'apple'"
            ]
          },
          "metadata": {
            "tags": []
          },
          "execution_count": 136
        }
      ]
    },
    {
      "cell_type": "code",
      "metadata": {
        "id": "sGfZ2O3B_61y",
        "colab_type": "code",
        "colab": {},
        "outputId": "4760db15-4652-4103-8e4d-1fe4c97b38b9"
      },
      "source": [
        "fruits[1]"
      ],
      "execution_count": null,
      "outputs": [
        {
          "output_type": "execute_result",
          "data": {
            "text/plain": [
              "'banana'"
            ]
          },
          "metadata": {
            "tags": []
          },
          "execution_count": 137
        }
      ]
    },
    {
      "cell_type": "code",
      "metadata": {
        "id": "3XUoHwvu_611",
        "colab_type": "code",
        "colab": {},
        "outputId": "079cbc77-9b13-4098-8682-85a09504a280"
      },
      "source": [
        "fruits[2]"
      ],
      "execution_count": null,
      "outputs": [
        {
          "output_type": "execute_result",
          "data": {
            "text/plain": [
              "'cherry'"
            ]
          },
          "metadata": {
            "tags": []
          },
          "execution_count": 138
        }
      ]
    },
    {
      "cell_type": "markdown",
      "metadata": {
        "id": "-tlhnm2E_62A",
        "colab_type": "text"
      },
      "source": [
        "If you try to access an index equal to or higher than the length of the list, Python returns an `IndexError`."
      ]
    },
    {
      "cell_type": "code",
      "metadata": {
        "id": "oymj2cy-_62A",
        "colab_type": "code",
        "colab": {},
        "outputId": "b63db0cf-7e32-4897-b979-363a004452a3"
      },
      "source": [
        "fruits[3]"
      ],
      "execution_count": null,
      "outputs": [
        {
          "output_type": "error",
          "ename": "IndexError",
          "evalue": "list index out of range",
          "traceback": [
            "\u001b[0;31m---------------------------------------------------------------------------\u001b[0m",
            "\u001b[0;31mIndexError\u001b[0m                                Traceback (most recent call last)",
            "\u001b[0;32m<ipython-input-139-7ceeafd384d7>\u001b[0m in \u001b[0;36m<module>\u001b[0;34m\u001b[0m\n\u001b[0;32m----> 1\u001b[0;31m \u001b[0mfruits\u001b[0m\u001b[0;34m[\u001b[0m\u001b[0;36m3\u001b[0m\u001b[0;34m]\u001b[0m\u001b[0;34m\u001b[0m\u001b[0;34m\u001b[0m\u001b[0m\n\u001b[0m",
            "\u001b[0;31mIndexError\u001b[0m: list index out of range"
          ]
        }
      ]
    },
    {
      "cell_type": "code",
      "metadata": {
        "id": "5fO1H52J_62F",
        "colab_type": "code",
        "colab": {},
        "outputId": "881947a6-7e73-4e2e-c6d3-1cb046a5c8d1"
      },
      "source": [
        "fruits[4]"
      ],
      "execution_count": null,
      "outputs": [
        {
          "output_type": "error",
          "ename": "IndexError",
          "evalue": "list index out of range",
          "traceback": [
            "\u001b[0;31m---------------------------------------------------------------------------\u001b[0m",
            "\u001b[0;31mIndexError\u001b[0m                                Traceback (most recent call last)",
            "\u001b[0;32m<ipython-input-140-b8c91da6ba3a>\u001b[0m in \u001b[0;36m<module>\u001b[0;34m\u001b[0m\n\u001b[0;32m----> 1\u001b[0;31m \u001b[0mfruits\u001b[0m\u001b[0;34m[\u001b[0m\u001b[0;36m4\u001b[0m\u001b[0;34m]\u001b[0m\u001b[0;34m\u001b[0m\u001b[0;34m\u001b[0m\u001b[0m\n\u001b[0m",
            "\u001b[0;31mIndexError\u001b[0m: list index out of range"
          ]
        }
      ]
    },
    {
      "cell_type": "code",
      "metadata": {
        "id": "d9KJ2ZT__62M",
        "colab_type": "code",
        "colab": {},
        "outputId": "d2864871-0402-43db-b72b-5cd0165c5b13"
      },
      "source": [
        "fruits[-1]"
      ],
      "execution_count": null,
      "outputs": [
        {
          "output_type": "execute_result",
          "data": {
            "text/plain": [
              "'cherry'"
            ]
          },
          "metadata": {
            "tags": []
          },
          "execution_count": 141
        }
      ]
    },
    {
      "cell_type": "code",
      "metadata": {
        "id": "JWfAc6O-_62P",
        "colab_type": "code",
        "colab": {},
        "outputId": "a19924bc-4799-421d-b20e-9ab62dc78196"
      },
      "source": [
        "fruits[-2]"
      ],
      "execution_count": null,
      "outputs": [
        {
          "output_type": "execute_result",
          "data": {
            "text/plain": [
              "'banana'"
            ]
          },
          "metadata": {
            "tags": []
          },
          "execution_count": 142
        }
      ]
    },
    {
      "cell_type": "code",
      "metadata": {
        "id": "d6nPVCx7_62b",
        "colab_type": "code",
        "colab": {},
        "outputId": "c1547bd9-05a1-4fbe-e3a8-6bf79c7664c0"
      },
      "source": [
        "fruits[-3]"
      ],
      "execution_count": null,
      "outputs": [
        {
          "output_type": "execute_result",
          "data": {
            "text/plain": [
              "'apple'"
            ]
          },
          "metadata": {
            "tags": []
          },
          "execution_count": 143
        }
      ]
    },
    {
      "cell_type": "code",
      "metadata": {
        "id": "_ugsoWFm_62h",
        "colab_type": "code",
        "colab": {},
        "outputId": "365311e0-cbfa-4bab-eaed-7277e8b534e9"
      },
      "source": [
        "fruits[-4]"
      ],
      "execution_count": null,
      "outputs": [
        {
          "output_type": "error",
          "ename": "IndexError",
          "evalue": "list index out of range",
          "traceback": [
            "\u001b[0;31m---------------------------------------------------------------------------\u001b[0m",
            "\u001b[0;31mIndexError\u001b[0m                                Traceback (most recent call last)",
            "\u001b[0;32m<ipython-input-144-1cb2d66442ee>\u001b[0m in \u001b[0;36m<module>\u001b[0;34m\u001b[0m\n\u001b[0;32m----> 1\u001b[0;31m \u001b[0mfruits\u001b[0m\u001b[0;34m[\u001b[0m\u001b[0;34m-\u001b[0m\u001b[0;36m4\u001b[0m\u001b[0;34m]\u001b[0m\u001b[0;34m\u001b[0m\u001b[0;34m\u001b[0m\u001b[0m\n\u001b[0m",
            "\u001b[0;31mIndexError\u001b[0m: list index out of range"
          ]
        }
      ]
    },
    {
      "cell_type": "markdown",
      "metadata": {
        "id": "sM8Xdp3A_62m",
        "colab_type": "text"
      },
      "source": [
        "You can also access a range of values from the list. The result is itself a list. Let us look at some examples."
      ]
    },
    {
      "cell_type": "code",
      "metadata": {
        "id": "8jetVzIS_62p",
        "colab_type": "code",
        "colab": {}
      },
      "source": [
        "a_list = [23, 'hello', None, 3.14, fruits, 3 <= 5]"
      ],
      "execution_count": null,
      "outputs": []
    },
    {
      "cell_type": "code",
      "metadata": {
        "id": "EcOkZ5dC_62u",
        "colab_type": "code",
        "colab": {},
        "outputId": "6a775413-ca61-4ffc-c765-60cce7e2a2c0"
      },
      "source": [
        "a_list"
      ],
      "execution_count": null,
      "outputs": [
        {
          "output_type": "execute_result",
          "data": {
            "text/plain": [
              "[23, 'hello', None, 3.14, ['apple', 'banana', 'cherry'], True]"
            ]
          },
          "metadata": {
            "tags": []
          },
          "execution_count": 146
        }
      ]
    },
    {
      "cell_type": "code",
      "metadata": {
        "id": "BgELHRUn_62z",
        "colab_type": "code",
        "colab": {},
        "outputId": "f94be4f9-c7ab-4ac1-8a84-5397b9a5ad05"
      },
      "source": [
        "len(a_list)"
      ],
      "execution_count": null,
      "outputs": [
        {
          "output_type": "execute_result",
          "data": {
            "text/plain": [
              "6"
            ]
          },
          "metadata": {
            "tags": []
          },
          "execution_count": 147
        }
      ]
    },
    {
      "cell_type": "code",
      "metadata": {
        "id": "UWzl8ysJ_626",
        "colab_type": "code",
        "colab": {},
        "outputId": "2b58dc13-9527-4588-a437-3a1e559dc71e"
      },
      "source": [
        "a_list[2:5]"
      ],
      "execution_count": null,
      "outputs": [
        {
          "output_type": "execute_result",
          "data": {
            "text/plain": [
              "[None, 3.14, ['apple', 'banana', 'cherry']]"
            ]
          },
          "metadata": {
            "tags": []
          },
          "execution_count": 148
        }
      ]
    },
    {
      "cell_type": "markdown",
      "metadata": {
        "id": "Psry1iPC_62_",
        "colab_type": "text"
      },
      "source": [
        "Note that the start index (`2` in the above example) of the range is included in the list, but the end index (`5` in the above example) is not included. So, the result has 3 values (indices `2`, `3` and `4`).\n",
        "\n",
        "Here are some experiments you should try out (use the empty cells below):\n",
        "\n",
        "* Try setting one or both indices of the range are larger than the size of the list e.g. `a_list[2:10]`\n",
        "* Try setting the start index of the range to be larger than the end index of the range e.g. `list_a[2:10]`\n",
        "* Try leaving out the start or end index of a range e.g. `a_list[2:]` or `a_list[:5]`\n",
        "* Try using negative indices for the range e.g. `a_list[-2:-5]` or `a_list[-5:-2]` (can you explain the results?)\n",
        "\n",
        "> The flexible and interactive nature of Jupyter notebooks makes them a great tool for learning and experimentation. Most questions that arise while you are learning Python for the first time can be resolved by simply typing the code into a cell and executing it. Let your curiosity run wild, and discover what Python is capable of, and what it isn't! "
      ]
    },
    {
      "cell_type": "code",
      "metadata": {
        "id": "Nzt-vjdi_63A",
        "colab_type": "code",
        "colab": {}
      },
      "source": [
        ""
      ],
      "execution_count": null,
      "outputs": []
    },
    {
      "cell_type": "code",
      "metadata": {
        "id": "F1kg-3bT_63E",
        "colab_type": "code",
        "colab": {}
      },
      "source": [
        ""
      ],
      "execution_count": null,
      "outputs": []
    },
    {
      "cell_type": "code",
      "metadata": {
        "id": "IH7S70jm_63L",
        "colab_type": "code",
        "colab": {}
      },
      "source": [
        ""
      ],
      "execution_count": null,
      "outputs": []
    },
    {
      "cell_type": "code",
      "metadata": {
        "id": "6C5RmpSH_63Y",
        "colab_type": "code",
        "colab": {}
      },
      "source": [
        ""
      ],
      "execution_count": null,
      "outputs": []
    },
    {
      "cell_type": "markdown",
      "metadata": {
        "id": "d1_nwelA_63e",
        "colab_type": "text"
      },
      "source": [
        "You can also change the value at a specific index within a list using the assignment operation."
      ]
    },
    {
      "cell_type": "code",
      "metadata": {
        "id": "vBQSbUid_63e",
        "colab_type": "code",
        "colab": {},
        "outputId": "e331d70c-f814-47db-f5d1-3db079446071"
      },
      "source": [
        "fruits"
      ],
      "execution_count": null,
      "outputs": [
        {
          "output_type": "execute_result",
          "data": {
            "text/plain": [
              "['apple', 'banana', 'cherry']"
            ]
          },
          "metadata": {
            "tags": []
          },
          "execution_count": 149
        }
      ]
    },
    {
      "cell_type": "code",
      "metadata": {
        "id": "0PYyG52B_630",
        "colab_type": "code",
        "colab": {}
      },
      "source": [
        "fruits[1] = 'blueberry'"
      ],
      "execution_count": null,
      "outputs": []
    },
    {
      "cell_type": "code",
      "metadata": {
        "id": "Y-juG1Qu_636",
        "colab_type": "code",
        "colab": {},
        "outputId": "bcd080a1-dc7d-45a2-9ec1-4d1060c2d8fe"
      },
      "source": [
        "fruits"
      ],
      "execution_count": null,
      "outputs": [
        {
          "output_type": "execute_result",
          "data": {
            "text/plain": [
              "['apple', 'blueberry', 'cherry']"
            ]
          },
          "metadata": {
            "tags": []
          },
          "execution_count": 151
        }
      ]
    },
    {
      "cell_type": "markdown",
      "metadata": {
        "id": "MsCFtxcw_64Y",
        "colab_type": "text"
      },
      "source": [
        "A new value can be added to the end of a list using the `append` method."
      ]
    },
    {
      "cell_type": "code",
      "metadata": {
        "id": "0D7x78gM_64Z",
        "colab_type": "code",
        "colab": {}
      },
      "source": [
        "fruits.append('dates')"
      ],
      "execution_count": null,
      "outputs": []
    },
    {
      "cell_type": "code",
      "metadata": {
        "id": "jBlm-LWA_64d",
        "colab_type": "code",
        "colab": {},
        "outputId": "bca02239-ec9a-4e02-8737-ac1ed7a52c95"
      },
      "source": [
        "fruits"
      ],
      "execution_count": null,
      "outputs": [
        {
          "output_type": "execute_result",
          "data": {
            "text/plain": [
              "['apple', 'blueberry', 'cherry', 'dates']"
            ]
          },
          "metadata": {
            "tags": []
          },
          "execution_count": 153
        }
      ]
    },
    {
      "cell_type": "markdown",
      "metadata": {
        "id": "KSelOiCB_647",
        "colab_type": "text"
      },
      "source": [
        "A new value can also be inserted a specific index using the `insert` method."
      ]
    },
    {
      "cell_type": "code",
      "metadata": {
        "id": "hZDYN_Ae_648",
        "colab_type": "code",
        "colab": {}
      },
      "source": [
        "fruits.insert(1, 'banana')"
      ],
      "execution_count": null,
      "outputs": []
    },
    {
      "cell_type": "code",
      "metadata": {
        "id": "jwp6Shfb_65W",
        "colab_type": "code",
        "colab": {},
        "outputId": "06a8e5ea-8565-4926-9ec7-008f58319e1c"
      },
      "source": [
        "fruits"
      ],
      "execution_count": null,
      "outputs": [
        {
          "output_type": "execute_result",
          "data": {
            "text/plain": [
              "['apple', 'banana', 'blueberry', 'cherry', 'dates']"
            ]
          },
          "metadata": {
            "tags": []
          },
          "execution_count": 155
        }
      ]
    },
    {
      "cell_type": "markdown",
      "metadata": {
        "id": "0TsGsg5l_65c",
        "colab_type": "text"
      },
      "source": [
        "You can remove a value from the list using the `remove` method."
      ]
    },
    {
      "cell_type": "code",
      "metadata": {
        "id": "0GiH5kV7_65d",
        "colab_type": "code",
        "colab": {}
      },
      "source": [
        "fruits.remove('blueberry')"
      ],
      "execution_count": null,
      "outputs": []
    },
    {
      "cell_type": "code",
      "metadata": {
        "id": "zCIBrJzf_65u",
        "colab_type": "code",
        "colab": {},
        "outputId": "58d0acb8-4652-4dc1-a8c9-db3018502f18"
      },
      "source": [
        "fruits"
      ],
      "execution_count": null,
      "outputs": [
        {
          "output_type": "execute_result",
          "data": {
            "text/plain": [
              "['apple', 'banana', 'cherry', 'dates']"
            ]
          },
          "metadata": {
            "tags": []
          },
          "execution_count": 157
        }
      ]
    },
    {
      "cell_type": "markdown",
      "metadata": {
        "id": "fghu5CQp_656",
        "colab_type": "text"
      },
      "source": [
        "What happens if a list has multiple instances of the value passed to `.remove`? Try it out."
      ]
    },
    {
      "cell_type": "code",
      "metadata": {
        "id": "9R7ybylJ_656",
        "colab_type": "code",
        "colab": {}
      },
      "source": [
        ""
      ],
      "execution_count": null,
      "outputs": []
    },
    {
      "cell_type": "code",
      "metadata": {
        "id": "_CpBZwIz_65-",
        "colab_type": "code",
        "colab": {}
      },
      "source": [
        ""
      ],
      "execution_count": null,
      "outputs": []
    },
    {
      "cell_type": "markdown",
      "metadata": {
        "id": "VOc21eY1_66C",
        "colab_type": "text"
      },
      "source": [
        "To remove an element from a specific index, use the `pop` method. The method also returns the removed element."
      ]
    },
    {
      "cell_type": "code",
      "metadata": {
        "id": "OLW5Fu-G_66D",
        "colab_type": "code",
        "colab": {},
        "outputId": "9152b136-d4d6-4f8f-e708-d199d89f339a"
      },
      "source": [
        "fruits"
      ],
      "execution_count": null,
      "outputs": [
        {
          "output_type": "execute_result",
          "data": {
            "text/plain": [
              "['apple', 'banana', 'cherry', 'dates']"
            ]
          },
          "metadata": {
            "tags": []
          },
          "execution_count": 158
        }
      ]
    },
    {
      "cell_type": "code",
      "metadata": {
        "id": "t01JfIog_66T",
        "colab_type": "code",
        "colab": {},
        "outputId": "57dcbc69-3be8-44e8-ef40-6686a4dd426e"
      },
      "source": [
        "fruits.pop(1)"
      ],
      "execution_count": null,
      "outputs": [
        {
          "output_type": "execute_result",
          "data": {
            "text/plain": [
              "'banana'"
            ]
          },
          "metadata": {
            "tags": []
          },
          "execution_count": 159
        }
      ]
    },
    {
      "cell_type": "code",
      "metadata": {
        "id": "DYdE85bG_67M",
        "colab_type": "code",
        "colab": {},
        "outputId": "c7dfea0f-e0c9-49ff-9935-ae0f61f2a033"
      },
      "source": [
        "fruits"
      ],
      "execution_count": null,
      "outputs": [
        {
          "output_type": "execute_result",
          "data": {
            "text/plain": [
              "['apple', 'cherry', 'dates']"
            ]
          },
          "metadata": {
            "tags": []
          },
          "execution_count": 160
        }
      ]
    },
    {
      "cell_type": "markdown",
      "metadata": {
        "id": "oDThEKL__67R",
        "colab_type": "text"
      },
      "source": [
        "If no index is provided, the `pop` method removes the last element of the list."
      ]
    },
    {
      "cell_type": "code",
      "metadata": {
        "id": "v-rVWpHf_67S",
        "colab_type": "code",
        "colab": {},
        "outputId": "41d14f7d-1f99-4153-ae79-318badccd5c3"
      },
      "source": [
        "fruits.pop()"
      ],
      "execution_count": null,
      "outputs": [
        {
          "output_type": "execute_result",
          "data": {
            "text/plain": [
              "'dates'"
            ]
          },
          "metadata": {
            "tags": []
          },
          "execution_count": 161
        }
      ]
    },
    {
      "cell_type": "code",
      "metadata": {
        "id": "ruyZ6Qep_67a",
        "colab_type": "code",
        "colab": {},
        "outputId": "f11e83d2-638d-4bd3-a7bb-64304dcfe412"
      },
      "source": [
        "fruits"
      ],
      "execution_count": null,
      "outputs": [
        {
          "output_type": "execute_result",
          "data": {
            "text/plain": [
              "['apple', 'cherry']"
            ]
          },
          "metadata": {
            "tags": []
          },
          "execution_count": 162
        }
      ]
    },
    {
      "cell_type": "markdown",
      "metadata": {
        "id": "7VNMFpJZ_67d",
        "colab_type": "text"
      },
      "source": [
        "You can test whether a list contains a value using the `in` operator."
      ]
    },
    {
      "cell_type": "code",
      "metadata": {
        "id": "7Xx6wMDQ_67e",
        "colab_type": "code",
        "colab": {},
        "outputId": "ebdf9fd7-f82d-4a4c-b611-812a08e62ffa"
      },
      "source": [
        "'pineapple' in fruits"
      ],
      "execution_count": null,
      "outputs": [
        {
          "output_type": "execute_result",
          "data": {
            "text/plain": [
              "False"
            ]
          },
          "metadata": {
            "tags": []
          },
          "execution_count": 163
        }
      ]
    },
    {
      "cell_type": "code",
      "metadata": {
        "id": "JvXzZ5xp_67h",
        "colab_type": "code",
        "colab": {},
        "outputId": "bc260702-fab2-4d41-dce3-a0664d7cd506"
      },
      "source": [
        "'cherry' in fruits"
      ],
      "execution_count": null,
      "outputs": [
        {
          "output_type": "execute_result",
          "data": {
            "text/plain": [
              "True"
            ]
          },
          "metadata": {
            "tags": []
          },
          "execution_count": 164
        }
      ]
    },
    {
      "cell_type": "markdown",
      "metadata": {
        "id": "UTJ94hE3_67l",
        "colab_type": "text"
      },
      "source": [
        "To combine two or more lists, use the `+` operator. This operation is also called *concatenation*."
      ]
    },
    {
      "cell_type": "code",
      "metadata": {
        "id": "jCIHr4bI_67m",
        "colab_type": "code",
        "colab": {},
        "outputId": "7a94514d-a4f9-448c-91cc-661c9ef739dd"
      },
      "source": [
        "fruits"
      ],
      "execution_count": null,
      "outputs": [
        {
          "output_type": "execute_result",
          "data": {
            "text/plain": [
              "['apple', 'cherry']"
            ]
          },
          "metadata": {
            "tags": []
          },
          "execution_count": 165
        }
      ]
    },
    {
      "cell_type": "code",
      "metadata": {
        "id": "LghCWcCz_673",
        "colab_type": "code",
        "colab": {}
      },
      "source": [
        "more_fruits = fruits + ['pineapple', 'tomato', 'guava'] + ['dates', 'banana']"
      ],
      "execution_count": null,
      "outputs": []
    },
    {
      "cell_type": "code",
      "metadata": {
        "id": "ZUX2zXzA_68C",
        "colab_type": "code",
        "colab": {},
        "outputId": "2447cbe3-cd34-496f-ef2c-4070ef61eb38"
      },
      "source": [
        "more_fruits"
      ],
      "execution_count": null,
      "outputs": [
        {
          "output_type": "execute_result",
          "data": {
            "text/plain": [
              "['apple', 'cherry', 'pineapple', 'tomato', 'guava', 'dates', 'banana']"
            ]
          },
          "metadata": {
            "tags": []
          },
          "execution_count": 167
        }
      ]
    },
    {
      "cell_type": "markdown",
      "metadata": {
        "id": "v64G47YF_68O",
        "colab_type": "text"
      },
      "source": [
        "To create a copy of a list, use the `copy` method. Modifying the copied list does not affect the original list."
      ]
    },
    {
      "cell_type": "code",
      "metadata": {
        "id": "UUEgQlPC_68P",
        "colab_type": "code",
        "colab": {}
      },
      "source": [
        "more_fruits_copy = more_fruits.copy()"
      ],
      "execution_count": null,
      "outputs": []
    },
    {
      "cell_type": "code",
      "metadata": {
        "id": "DzQ-c1af_68i",
        "colab_type": "code",
        "colab": {},
        "outputId": "fbc4a12b-e0b9-4d77-b66d-dddd8f0af0fe"
      },
      "source": [
        "more_fruits_copy"
      ],
      "execution_count": null,
      "outputs": [
        {
          "output_type": "execute_result",
          "data": {
            "text/plain": [
              "['apple', 'cherry', 'pineapple', 'tomato', 'guava', 'dates', 'banana']"
            ]
          },
          "metadata": {
            "tags": []
          },
          "execution_count": 172
        }
      ]
    },
    {
      "cell_type": "code",
      "metadata": {
        "id": "i31Ptota_68m",
        "colab_type": "code",
        "colab": {},
        "outputId": "125da692-8beb-45b1-a636-8c0de81796af"
      },
      "source": [
        "# Modify the copy\n",
        "more_fruits_copy.remove('pineapple')\n",
        "more_fruits_copy.pop()\n",
        "more_fruits_copy"
      ],
      "execution_count": null,
      "outputs": [
        {
          "output_type": "execute_result",
          "data": {
            "text/plain": [
              "['apple', 'cherry', 'tomato', 'guava', 'dates']"
            ]
          },
          "metadata": {
            "tags": []
          },
          "execution_count": 173
        }
      ]
    },
    {
      "cell_type": "code",
      "metadata": {
        "id": "52oREGCH_68v",
        "colab_type": "code",
        "colab": {},
        "outputId": "ac3fbb64-5aef-41f5-adfd-1057db01c576"
      },
      "source": [
        "# Original list remains unchanged\n",
        "more_fruits"
      ],
      "execution_count": null,
      "outputs": [
        {
          "output_type": "execute_result",
          "data": {
            "text/plain": [
              "['apple', 'cherry', 'pineapple', 'tomato', 'guava', 'dates', 'banana']"
            ]
          },
          "metadata": {
            "tags": []
          },
          "execution_count": 174
        }
      ]
    },
    {
      "cell_type": "markdown",
      "metadata": {
        "id": "amyZ8mxk_68y",
        "colab_type": "text"
      },
      "source": [
        "Note that you cannot create a copy of a list by simply creating a new variable using the assignment operator `=`. The new variable will point to the same list, and any modifications performed using one variable will affect the other."
      ]
    },
    {
      "cell_type": "code",
      "metadata": {
        "id": "F03z81cM_680",
        "colab_type": "code",
        "colab": {},
        "outputId": "07e48177-3ef2-45f1-ee49-c5e9d2aee545"
      },
      "source": [
        "more_fruits"
      ],
      "execution_count": null,
      "outputs": [
        {
          "output_type": "execute_result",
          "data": {
            "text/plain": [
              "['apple', 'cherry', 'pineapple', 'tomato', 'guava', 'dates', 'banana']"
            ]
          },
          "metadata": {
            "tags": []
          },
          "execution_count": 175
        }
      ]
    },
    {
      "cell_type": "code",
      "metadata": {
        "id": "3WIC17YJ_68-",
        "colab_type": "code",
        "colab": {}
      },
      "source": [
        "more_fruits_not_a_copy = more_fruits"
      ],
      "execution_count": null,
      "outputs": []
    },
    {
      "cell_type": "code",
      "metadata": {
        "id": "2N8tdY6a_69C",
        "colab_type": "code",
        "colab": {},
        "outputId": "b4718c06-a910-4d55-f979-6ef9a437eea0"
      },
      "source": [
        "more_fruits_not_a_copy.remove('pineapple')\n",
        "more_fruits_not_a_copy.pop()"
      ],
      "execution_count": null,
      "outputs": [
        {
          "output_type": "execute_result",
          "data": {
            "text/plain": [
              "'banana'"
            ]
          },
          "metadata": {
            "tags": []
          },
          "execution_count": 177
        }
      ]
    },
    {
      "cell_type": "code",
      "metadata": {
        "id": "5GbcI_uR_69F",
        "colab_type": "code",
        "colab": {},
        "outputId": "de469e8e-27de-4892-d5e6-28be4169657b"
      },
      "source": [
        "more_fruits_not_a_copy"
      ],
      "execution_count": null,
      "outputs": [
        {
          "output_type": "execute_result",
          "data": {
            "text/plain": [
              "['apple', 'cherry', 'tomato', 'guava', 'dates']"
            ]
          },
          "metadata": {
            "tags": []
          },
          "execution_count": 178
        }
      ]
    },
    {
      "cell_type": "code",
      "metadata": {
        "id": "3vTN6lit_69L",
        "colab_type": "code",
        "colab": {},
        "outputId": "fba75bb1-8ac8-4909-f0b4-c8e81c6f5f1d"
      },
      "source": [
        "more_fruits"
      ],
      "execution_count": null,
      "outputs": [
        {
          "output_type": "execute_result",
          "data": {
            "text/plain": [
              "['apple', 'cherry', 'tomato', 'guava', 'dates']"
            ]
          },
          "metadata": {
            "tags": []
          },
          "execution_count": 179
        }
      ]
    },
    {
      "cell_type": "markdown",
      "metadata": {
        "id": "G325FLxQ_69P",
        "colab_type": "text"
      },
      "source": [
        "Just like strings, there are several in-built methods to manipulate a list. Unlike strings, however, most list methods modify the original list, rather than returning a new one. Check out some common list operations here: https://www.w3schools.com/python/python_ref_list.asp\n",
        "\n",
        "\n",
        "Following are some exercises you can try out with list methods (use the blank code cells below):\n",
        "\n",
        "* Reverse the order of elements in a list\n",
        "* Add the elements of one list to the end of another list\n",
        "* Sort a list of strings in alphabetical order\n",
        "* Sort a list of numbers in decreasing order"
      ]
    },
    {
      "cell_type": "code",
      "metadata": {
        "id": "uJlXuL4o_69Q",
        "colab_type": "code",
        "colab": {}
      },
      "source": [
        ""
      ],
      "execution_count": null,
      "outputs": []
    },
    {
      "cell_type": "code",
      "metadata": {
        "id": "cL84uaON_69T",
        "colab_type": "code",
        "colab": {}
      },
      "source": [
        ""
      ],
      "execution_count": null,
      "outputs": []
    },
    {
      "cell_type": "code",
      "metadata": {
        "id": "VgmPr2BQ_69W",
        "colab_type": "code",
        "colab": {}
      },
      "source": [
        ""
      ],
      "execution_count": null,
      "outputs": []
    },
    {
      "cell_type": "code",
      "metadata": {
        "id": "yNEOuccn_69Z",
        "colab_type": "code",
        "colab": {}
      },
      "source": [
        ""
      ],
      "execution_count": null,
      "outputs": []
    },
    {
      "cell_type": "markdown",
      "metadata": {
        "id": "ukzR3I09_69c",
        "colab_type": "text"
      },
      "source": [
        "### Tuple\n",
        "\n",
        "A tuple is an ordered collection of values, similar to a list, however it is not possible to add, remove or modify values in a tuple. A tuple is created by enclosing values within parantheses `(` and `)`, separated by commas.\n",
        "\n",
        "> Any data structure that cannot be modified after creation is called *immutable*. You can think of tuples as immutable lists.\n",
        "\n",
        "Let's try some experiments with tuples."
      ]
    },
    {
      "cell_type": "code",
      "metadata": {
        "id": "AuX5Days_69c",
        "colab_type": "code",
        "colab": {}
      },
      "source": [
        "fruits = ('apple', 'cherry', 'dates')"
      ],
      "execution_count": null,
      "outputs": []
    },
    {
      "cell_type": "code",
      "metadata": {
        "id": "cGF5seW1_69f",
        "colab_type": "code",
        "colab": {},
        "outputId": "f831c891-69cb-4163-f3f1-7715c2e2b0bd"
      },
      "source": [
        "# check no. of elements\n",
        "len(fruits)"
      ],
      "execution_count": null,
      "outputs": [
        {
          "output_type": "execute_result",
          "data": {
            "text/plain": [
              "3"
            ]
          },
          "metadata": {
            "tags": []
          },
          "execution_count": 181
        }
      ]
    },
    {
      "cell_type": "code",
      "metadata": {
        "id": "lwz308pa_69l",
        "colab_type": "code",
        "colab": {},
        "outputId": "ea69f509-94e2-4939-9966-87ed0713a16b"
      },
      "source": [
        "# get an element (positive index)\n",
        "fruits[0]"
      ],
      "execution_count": null,
      "outputs": [
        {
          "output_type": "execute_result",
          "data": {
            "text/plain": [
              "'apple'"
            ]
          },
          "metadata": {
            "tags": []
          },
          "execution_count": 182
        }
      ]
    },
    {
      "cell_type": "code",
      "metadata": {
        "id": "dxM-6cY4_69u",
        "colab_type": "code",
        "colab": {},
        "outputId": "8af7880b-be09-498a-bf00-1585bf7cf805"
      },
      "source": [
        "# get an element (negative index)\n",
        "fruits[-2]"
      ],
      "execution_count": null,
      "outputs": [
        {
          "output_type": "execute_result",
          "data": {
            "text/plain": [
              "'cherry'"
            ]
          },
          "metadata": {
            "tags": []
          },
          "execution_count": 183
        }
      ]
    },
    {
      "cell_type": "code",
      "metadata": {
        "id": "EhC_ff9l_69x",
        "colab_type": "code",
        "colab": {},
        "outputId": "8d8ab54d-e494-4c54-e3e0-253fa9f9d9a0"
      },
      "source": [
        "# check if it contains an element\n",
        "'dates' in fruits"
      ],
      "execution_count": null,
      "outputs": [
        {
          "output_type": "execute_result",
          "data": {
            "text/plain": [
              "True"
            ]
          },
          "metadata": {
            "tags": []
          },
          "execution_count": 184
        }
      ]
    },
    {
      "cell_type": "code",
      "metadata": {
        "id": "GilNnjob_691",
        "colab_type": "code",
        "colab": {},
        "outputId": "02195d92-e9fe-4086-cb7c-b0ebc6472bdf"
      },
      "source": [
        "# try to change an element\n",
        "fruits[0] = 'avocado'"
      ],
      "execution_count": null,
      "outputs": [
        {
          "output_type": "error",
          "ename": "TypeError",
          "evalue": "'tuple' object does not support item assignment",
          "traceback": [
            "\u001b[0;31m---------------------------------------------------------------------------\u001b[0m",
            "\u001b[0;31mTypeError\u001b[0m                                 Traceback (most recent call last)",
            "\u001b[0;32m<ipython-input-185-eea1d48cc8b5>\u001b[0m in \u001b[0;36m<module>\u001b[0;34m\u001b[0m\n\u001b[1;32m      1\u001b[0m \u001b[0;31m# try to change an element\u001b[0m\u001b[0;34m\u001b[0m\u001b[0;34m\u001b[0m\u001b[0;34m\u001b[0m\u001b[0m\n\u001b[0;32m----> 2\u001b[0;31m \u001b[0mfruits\u001b[0m\u001b[0;34m[\u001b[0m\u001b[0;36m0\u001b[0m\u001b[0;34m]\u001b[0m \u001b[0;34m=\u001b[0m \u001b[0;34m'avocado'\u001b[0m\u001b[0;34m\u001b[0m\u001b[0;34m\u001b[0m\u001b[0m\n\u001b[0m",
            "\u001b[0;31mTypeError\u001b[0m: 'tuple' object does not support item assignment"
          ]
        }
      ]
    },
    {
      "cell_type": "code",
      "metadata": {
        "id": "u4jiaC0u_69_",
        "colab_type": "code",
        "colab": {},
        "outputId": "f4543093-89fb-421e-a1fc-a8f4f26ef6a2"
      },
      "source": [
        "# try to append an element\n",
        "fruits.append('blueberry')"
      ],
      "execution_count": null,
      "outputs": [
        {
          "output_type": "error",
          "ename": "AttributeError",
          "evalue": "'tuple' object has no attribute 'append'",
          "traceback": [
            "\u001b[0;31m---------------------------------------------------------------------------\u001b[0m",
            "\u001b[0;31mAttributeError\u001b[0m                            Traceback (most recent call last)",
            "\u001b[0;32m<ipython-input-186-e5ea20adaaf8>\u001b[0m in \u001b[0;36m<module>\u001b[0;34m\u001b[0m\n\u001b[1;32m      1\u001b[0m \u001b[0;31m# try to append an element\u001b[0m\u001b[0;34m\u001b[0m\u001b[0;34m\u001b[0m\u001b[0;34m\u001b[0m\u001b[0m\n\u001b[0;32m----> 2\u001b[0;31m \u001b[0mfruits\u001b[0m\u001b[0;34m.\u001b[0m\u001b[0mappend\u001b[0m\u001b[0;34m(\u001b[0m\u001b[0;34m'blueberry'\u001b[0m\u001b[0;34m)\u001b[0m\u001b[0;34m\u001b[0m\u001b[0;34m\u001b[0m\u001b[0m\n\u001b[0m",
            "\u001b[0;31mAttributeError\u001b[0m: 'tuple' object has no attribute 'append'"
          ]
        }
      ]
    },
    {
      "cell_type": "code",
      "metadata": {
        "id": "_HCQLbN__6-M",
        "colab_type": "code",
        "colab": {},
        "outputId": "cd074da9-935f-47b5-98a3-0859435d981f"
      },
      "source": [
        "# try to remove an element\n",
        "fruits.remove('apple')"
      ],
      "execution_count": null,
      "outputs": [
        {
          "output_type": "error",
          "ename": "AttributeError",
          "evalue": "'tuple' object has no attribute 'remove'",
          "traceback": [
            "\u001b[0;31m---------------------------------------------------------------------------\u001b[0m",
            "\u001b[0;31mAttributeError\u001b[0m                            Traceback (most recent call last)",
            "\u001b[0;32m<ipython-input-187-37543d45b6b4>\u001b[0m in \u001b[0;36m<module>\u001b[0;34m\u001b[0m\n\u001b[1;32m      1\u001b[0m \u001b[0;31m# try to remove an element\u001b[0m\u001b[0;34m\u001b[0m\u001b[0;34m\u001b[0m\u001b[0;34m\u001b[0m\u001b[0m\n\u001b[0;32m----> 2\u001b[0;31m \u001b[0mfruits\u001b[0m\u001b[0;34m.\u001b[0m\u001b[0mremove\u001b[0m\u001b[0;34m(\u001b[0m\u001b[0;34m'apple'\u001b[0m\u001b[0;34m)\u001b[0m\u001b[0;34m\u001b[0m\u001b[0;34m\u001b[0m\u001b[0m\n\u001b[0m",
            "\u001b[0;31mAttributeError\u001b[0m: 'tuple' object has no attribute 'remove'"
          ]
        }
      ]
    },
    {
      "cell_type": "markdown",
      "metadata": {
        "id": "Y-PL4hip_6-V",
        "colab_type": "text"
      },
      "source": [
        "You can also skip the parantheses `(` and `)` while creating a tuple. Python automatically converts comma-separated values into a tuple."
      ]
    },
    {
      "cell_type": "code",
      "metadata": {
        "id": "8WpV_T2O_6-V",
        "colab_type": "code",
        "colab": {}
      },
      "source": [
        "the_3_musketeers = 'Athos', 'Porthos', 'Aramis'"
      ],
      "execution_count": null,
      "outputs": []
    },
    {
      "cell_type": "code",
      "metadata": {
        "id": "5IXFXOGK_6-Y",
        "colab_type": "code",
        "colab": {},
        "outputId": "b1b52e4b-8086-4c7f-edc3-18d1fb27afce"
      },
      "source": [
        "the_3_musketeers"
      ],
      "execution_count": null,
      "outputs": [
        {
          "output_type": "execute_result",
          "data": {
            "text/plain": [
              "('Athos', 'Porthos', 'Aramis')"
            ]
          },
          "metadata": {
            "tags": []
          },
          "execution_count": 189
        }
      ]
    },
    {
      "cell_type": "markdown",
      "metadata": {
        "id": "kYYczITS_6-b",
        "colab_type": "text"
      },
      "source": [
        "You can also create a tuple with just one element, if you include a comma after the element. Just wrapping it with parantheses `(` and `)` won't create a tuple."
      ]
    },
    {
      "cell_type": "code",
      "metadata": {
        "id": "ILvp3Sb-_6-c",
        "colab_type": "code",
        "colab": {}
      },
      "source": [
        "single_element_tuple = 4,"
      ],
      "execution_count": null,
      "outputs": []
    },
    {
      "cell_type": "code",
      "metadata": {
        "id": "5P2Au3An_6-g",
        "colab_type": "code",
        "colab": {},
        "outputId": "89aa5a02-9dd2-4021-ea04-abba3e3210f0"
      },
      "source": [
        "single_element_tuple"
      ],
      "execution_count": null,
      "outputs": [
        {
          "output_type": "execute_result",
          "data": {
            "text/plain": [
              "(4,)"
            ]
          },
          "metadata": {
            "tags": []
          },
          "execution_count": 193
        }
      ]
    },
    {
      "cell_type": "code",
      "metadata": {
        "id": "XJPBQ2aA_6-x",
        "colab_type": "code",
        "colab": {}
      },
      "source": [
        "another_single_element_tuple = (4,)"
      ],
      "execution_count": null,
      "outputs": []
    },
    {
      "cell_type": "code",
      "metadata": {
        "id": "HnAcEch4_6_D",
        "colab_type": "code",
        "colab": {},
        "outputId": "39a907cb-f698-4033-a988-8dc22193810f"
      },
      "source": [
        "another_single_element_tuple"
      ],
      "execution_count": null,
      "outputs": [
        {
          "output_type": "execute_result",
          "data": {
            "text/plain": [
              "(4,)"
            ]
          },
          "metadata": {
            "tags": []
          },
          "execution_count": 195
        }
      ]
    },
    {
      "cell_type": "code",
      "metadata": {
        "id": "rg_41nxi_6_M",
        "colab_type": "code",
        "colab": {}
      },
      "source": [
        "not_a_tuple = (4)"
      ],
      "execution_count": null,
      "outputs": []
    },
    {
      "cell_type": "code",
      "metadata": {
        "id": "Q-e-2z88_6_Q",
        "colab_type": "code",
        "colab": {},
        "outputId": "e13dd0b5-5525-4cb6-f337-8ddc5eb03a6d"
      },
      "source": [
        "not_a_tuple"
      ],
      "execution_count": null,
      "outputs": [
        {
          "output_type": "execute_result",
          "data": {
            "text/plain": [
              "4"
            ]
          },
          "metadata": {
            "tags": []
          },
          "execution_count": 197
        }
      ]
    },
    {
      "cell_type": "markdown",
      "metadata": {
        "id": "MJT2BjQf_6_T",
        "colab_type": "text"
      },
      "source": [
        "Tuples are often used to create multiple variables with a single statement."
      ]
    },
    {
      "cell_type": "code",
      "metadata": {
        "id": "CmJRsGTb_6_U",
        "colab_type": "code",
        "colab": {}
      },
      "source": [
        "point = (3, 4)"
      ],
      "execution_count": null,
      "outputs": []
    },
    {
      "cell_type": "code",
      "metadata": {
        "id": "gw672ClT_6_d",
        "colab_type": "code",
        "colab": {}
      },
      "source": [
        "point_x, point_y = point"
      ],
      "execution_count": null,
      "outputs": []
    },
    {
      "cell_type": "code",
      "metadata": {
        "id": "sBwpkN6x_6_h",
        "colab_type": "code",
        "colab": {},
        "outputId": "f8386a5d-c7c6-453f-9cbd-c14822ccc9b8"
      },
      "source": [
        "point_x"
      ],
      "execution_count": null,
      "outputs": [
        {
          "output_type": "execute_result",
          "data": {
            "text/plain": [
              "3"
            ]
          },
          "metadata": {
            "tags": []
          },
          "execution_count": 200
        }
      ]
    },
    {
      "cell_type": "code",
      "metadata": {
        "id": "eTVbw6m9_6_l",
        "colab_type": "code",
        "colab": {},
        "outputId": "ff575c04-5d61-42f2-fd5d-b9b820cad94e"
      },
      "source": [
        "point_y"
      ],
      "execution_count": null,
      "outputs": [
        {
          "output_type": "execute_result",
          "data": {
            "text/plain": [
              "4"
            ]
          },
          "metadata": {
            "tags": []
          },
          "execution_count": 201
        }
      ]
    },
    {
      "cell_type": "markdown",
      "metadata": {
        "id": "ZIrA6UDw_6_o",
        "colab_type": "text"
      },
      "source": [
        "You can convert a list into a tuple using the `tuple` function, and vice versa using the `list` function"
      ]
    },
    {
      "cell_type": "code",
      "metadata": {
        "id": "LwZZ80WY_6_p",
        "colab_type": "code",
        "colab": {},
        "outputId": "0b44aa25-f8e6-4b81-99f4-cc0794d5ca05"
      },
      "source": [
        "tuple(['one', 'two', 'three'])"
      ],
      "execution_count": null,
      "outputs": [
        {
          "output_type": "execute_result",
          "data": {
            "text/plain": [
              "('one', 'two', 'three')"
            ]
          },
          "metadata": {
            "tags": []
          },
          "execution_count": 202
        }
      ]
    },
    {
      "cell_type": "code",
      "metadata": {
        "id": "Ilz59H_0_6_v",
        "colab_type": "code",
        "colab": {},
        "outputId": "fa766cd1-9208-4f35-d1ad-c4d925ccd15d"
      },
      "source": [
        "list(('Athos', 'Porthos', 'Aramis'))"
      ],
      "execution_count": null,
      "outputs": [
        {
          "output_type": "execute_result",
          "data": {
            "text/plain": [
              "['Athos', 'Porthos', 'Aramis']"
            ]
          },
          "metadata": {
            "tags": []
          },
          "execution_count": 203
        }
      ]
    },
    {
      "cell_type": "markdown",
      "metadata": {
        "id": "1HHwdgs8_6_z",
        "colab_type": "text"
      },
      "source": [
        "Tuples have just 2 built-in methods: `count` and `index`. Can you figure out what they do? While look could look for documentation and examples online, there's an easier way to check the documentation of a method, using the `help` function."
      ]
    },
    {
      "cell_type": "code",
      "metadata": {
        "id": "d8tX-Tar_6_z",
        "colab_type": "code",
        "colab": {}
      },
      "source": [
        "a_tuple = 23, \"hello\", False, None, 23, 37, \"hello\""
      ],
      "execution_count": null,
      "outputs": []
    },
    {
      "cell_type": "code",
      "metadata": {
        "id": "_56yuS2t_6_2",
        "colab_type": "code",
        "colab": {},
        "outputId": "3ac356fc-a758-474e-b9c8-4e40a56d59bc"
      },
      "source": [
        "help(a_tuple.count)"
      ],
      "execution_count": null,
      "outputs": [
        {
          "output_type": "stream",
          "text": [
            "Help on built-in function count:\n",
            "\n",
            "count(value, /) method of builtins.tuple instance\n",
            "    Return number of occurrences of value.\n",
            "\n"
          ],
          "name": "stdout"
        }
      ]
    },
    {
      "cell_type": "markdown",
      "metadata": {
        "id": "lrGwviiq_6_4",
        "colab_type": "text"
      },
      "source": [
        "Within a Jupyter notebook, you can also start a code cell with `?` and type the name of a function or method. When you execute this cell, you will see the documentation for the function/method in a pop-up window."
      ]
    },
    {
      "cell_type": "code",
      "metadata": {
        "id": "rxwAYDlU_6_5",
        "colab_type": "code",
        "colab": {}
      },
      "source": [
        "?a_tuple.index"
      ],
      "execution_count": null,
      "outputs": []
    },
    {
      "cell_type": "markdown",
      "metadata": {
        "id": "tXY_gKfo_6_8",
        "colab_type": "text"
      },
      "source": [
        "Try using `count` and `index` with `a_tuple` in the code cells below."
      ]
    },
    {
      "cell_type": "code",
      "metadata": {
        "id": "KlDb9q9W_6_8",
        "colab_type": "code",
        "colab": {}
      },
      "source": [
        ""
      ],
      "execution_count": null,
      "outputs": []
    },
    {
      "cell_type": "code",
      "metadata": {
        "id": "PIhZhGRM_6__",
        "colab_type": "code",
        "colab": {}
      },
      "source": [
        ""
      ],
      "execution_count": null,
      "outputs": []
    },
    {
      "cell_type": "markdown",
      "metadata": {
        "id": "PCXrMgf8_7AA",
        "colab_type": "text"
      },
      "source": [
        "### Dictionary\n",
        "\n",
        "A dictionary is an unordered collection of items. Each item stored in a dictionary has a key and value. Keys are used to retrieve values from the dictionary. Dictionaries have the type `dict`.\n",
        "\n",
        "Dictionaries are often used to store many pieces of information e.g. details about a person, in a single variable. Dictionaries are created by enclosing key-value pairs within curly brackets `{` and `}`."
      ]
    },
    {
      "cell_type": "code",
      "metadata": {
        "id": "wPGqa2wA_7AB",
        "colab_type": "code",
        "colab": {}
      },
      "source": [
        "person1 = {\n",
        "    'name': 'John Doe',\n",
        "    'sex': 'Male',\n",
        "    'age': 32,\n",
        "    'married': True\n",
        "}"
      ],
      "execution_count": null,
      "outputs": []
    },
    {
      "cell_type": "code",
      "metadata": {
        "id": "J_jvi0Fk_7AC",
        "colab_type": "code",
        "colab": {},
        "outputId": "5329e15f-6a07-4c71-bc92-f7a7a3c60787"
      },
      "source": [
        "person1"
      ],
      "execution_count": null,
      "outputs": [
        {
          "output_type": "execute_result",
          "data": {
            "text/plain": [
              "{'name': 'John Doe', 'sex': 'Male', 'age': 32, 'married': True}"
            ]
          },
          "metadata": {
            "tags": []
          },
          "execution_count": 208
        }
      ]
    },
    {
      "cell_type": "markdown",
      "metadata": {
        "id": "ZcEah7fZ_7AE",
        "colab_type": "text"
      },
      "source": [
        "Dictionaries can also be created using the `dict` function."
      ]
    },
    {
      "cell_type": "code",
      "metadata": {
        "id": "Tduok1h5_7AE",
        "colab_type": "code",
        "colab": {}
      },
      "source": [
        "person2 = dict(name='Jane Judy', sex='Female', age=28, married=False)"
      ],
      "execution_count": null,
      "outputs": []
    },
    {
      "cell_type": "code",
      "metadata": {
        "id": "V42OCDFg_7AG",
        "colab_type": "code",
        "colab": {},
        "outputId": "70edfc7a-da42-4c6f-f9ae-96143b886c16"
      },
      "source": [
        "person2"
      ],
      "execution_count": null,
      "outputs": [
        {
          "output_type": "execute_result",
          "data": {
            "text/plain": [
              "{'name': 'Jane Judy', 'sex': 'Female', 'age': 28, 'married': False}"
            ]
          },
          "metadata": {
            "tags": []
          },
          "execution_count": 210
        }
      ]
    },
    {
      "cell_type": "code",
      "metadata": {
        "id": "-HTYiGWX_7AK",
        "colab_type": "code",
        "colab": {},
        "outputId": "0abb4fcf-d1b2-423c-f6b6-f50e63d2a0a3"
      },
      "source": [
        "type(person1)"
      ],
      "execution_count": null,
      "outputs": [
        {
          "output_type": "execute_result",
          "data": {
            "text/plain": [
              "dict"
            ]
          },
          "metadata": {
            "tags": []
          },
          "execution_count": 211
        }
      ]
    },
    {
      "cell_type": "markdown",
      "metadata": {
        "id": "ba3L9KLu_7AN",
        "colab_type": "text"
      },
      "source": [
        "Keys can be used to access values using square brackets `[` and `]`."
      ]
    },
    {
      "cell_type": "code",
      "metadata": {
        "id": "mO7bomKl_7AP",
        "colab_type": "code",
        "colab": {},
        "outputId": "d170c8ae-09ef-4551-8ef0-184347c6647b"
      },
      "source": [
        "person1['name']"
      ],
      "execution_count": null,
      "outputs": [
        {
          "output_type": "execute_result",
          "data": {
            "text/plain": [
              "'John Doe'"
            ]
          },
          "metadata": {
            "tags": []
          },
          "execution_count": 212
        }
      ]
    },
    {
      "cell_type": "code",
      "metadata": {
        "id": "OpTG8SO1_7AR",
        "colab_type": "code",
        "colab": {},
        "outputId": "6a49ce1c-0ac3-46a5-db04-92549f3268e9"
      },
      "source": [
        "person1['married']"
      ],
      "execution_count": null,
      "outputs": [
        {
          "output_type": "execute_result",
          "data": {
            "text/plain": [
              "True"
            ]
          },
          "metadata": {
            "tags": []
          },
          "execution_count": 213
        }
      ]
    },
    {
      "cell_type": "code",
      "metadata": {
        "id": "RxkXfvQl_7AT",
        "colab_type": "code",
        "colab": {},
        "outputId": "2eeb01b5-0223-4612-cb94-fc37990f02bd"
      },
      "source": [
        "person2['name']"
      ],
      "execution_count": null,
      "outputs": [
        {
          "output_type": "execute_result",
          "data": {
            "text/plain": [
              "'Jane Judy'"
            ]
          },
          "metadata": {
            "tags": []
          },
          "execution_count": 214
        }
      ]
    },
    {
      "cell_type": "markdown",
      "metadata": {
        "id": "e9uCgss4_7AV",
        "colab_type": "text"
      },
      "source": [
        "If a key isn't present in the dictionary, then a `KeyError` is returned."
      ]
    },
    {
      "cell_type": "code",
      "metadata": {
        "id": "3YlTzWOR_7AV",
        "colab_type": "code",
        "colab": {},
        "outputId": "f646590e-673d-4294-cacf-d4d5fbe6dd8c"
      },
      "source": [
        "person1['address']"
      ],
      "execution_count": null,
      "outputs": [
        {
          "output_type": "error",
          "ename": "KeyError",
          "evalue": "'address'",
          "traceback": [
            "\u001b[0;31m---------------------------------------------------------------------------\u001b[0m",
            "\u001b[0;31mKeyError\u001b[0m                                  Traceback (most recent call last)",
            "\u001b[0;32m<ipython-input-215-f2b8bd2476d4>\u001b[0m in \u001b[0;36m<module>\u001b[0;34m\u001b[0m\n\u001b[0;32m----> 1\u001b[0;31m \u001b[0mperson1\u001b[0m\u001b[0;34m[\u001b[0m\u001b[0;34m'address'\u001b[0m\u001b[0;34m]\u001b[0m\u001b[0;34m\u001b[0m\u001b[0;34m\u001b[0m\u001b[0m\n\u001b[0m",
            "\u001b[0;31mKeyError\u001b[0m: 'address'"
          ]
        }
      ]
    },
    {
      "cell_type": "markdown",
      "metadata": {
        "id": "5FzxEZQe_7AY",
        "colab_type": "text"
      },
      "source": [
        "The `get` method can also be used to access the value associated with a key."
      ]
    },
    {
      "cell_type": "code",
      "metadata": {
        "id": "y0DKW2S8_7AY",
        "colab_type": "code",
        "colab": {},
        "outputId": "fcc4fabe-1c4a-48a7-a458-4922b93515fe"
      },
      "source": [
        "person2.get(\"name\")"
      ],
      "execution_count": null,
      "outputs": [
        {
          "output_type": "execute_result",
          "data": {
            "text/plain": [
              "'Jane Judy'"
            ]
          },
          "metadata": {
            "tags": []
          },
          "execution_count": 216
        }
      ]
    },
    {
      "cell_type": "markdown",
      "metadata": {
        "id": "uN4oNNbk_7Ab",
        "colab_type": "text"
      },
      "source": [
        "The `get` method also accepts a default value which is returned if the key is not present in the dictionary."
      ]
    },
    {
      "cell_type": "code",
      "metadata": {
        "id": "qGEDEDYm_7Ac",
        "colab_type": "code",
        "colab": {},
        "outputId": "ecbe927e-84ad-42ef-df7b-476287567d40"
      },
      "source": [
        "person2.get(\"address\", \"Unknown\")"
      ],
      "execution_count": null,
      "outputs": [
        {
          "output_type": "execute_result",
          "data": {
            "text/plain": [
              "'Unknown'"
            ]
          },
          "metadata": {
            "tags": []
          },
          "execution_count": 217
        }
      ]
    },
    {
      "cell_type": "markdown",
      "metadata": {
        "id": "hG5eK3Fx_7Af",
        "colab_type": "text"
      },
      "source": [
        "You can check whether a key is present in a dictionary using the `in` operator."
      ]
    },
    {
      "cell_type": "code",
      "metadata": {
        "id": "9_iTo7zQ_7Af",
        "colab_type": "code",
        "colab": {},
        "outputId": "15c591db-040c-46a1-9992-3512f33b6585"
      },
      "source": [
        "'name' in person1"
      ],
      "execution_count": null,
      "outputs": [
        {
          "output_type": "execute_result",
          "data": {
            "text/plain": [
              "True"
            ]
          },
          "metadata": {
            "tags": []
          },
          "execution_count": 218
        }
      ]
    },
    {
      "cell_type": "code",
      "metadata": {
        "id": "2KPEFcQP_7Ah",
        "colab_type": "code",
        "colab": {},
        "outputId": "1a3f146a-86d4-466e-9422-d858f1272fa8"
      },
      "source": [
        "'address' in person1"
      ],
      "execution_count": null,
      "outputs": [
        {
          "output_type": "execute_result",
          "data": {
            "text/plain": [
              "False"
            ]
          },
          "metadata": {
            "tags": []
          },
          "execution_count": 219
        }
      ]
    },
    {
      "cell_type": "markdown",
      "metadata": {
        "id": "0ja-Qeoo_7Al",
        "colab_type": "text"
      },
      "source": [
        "You can change the value associated with a key using the assignment operator."
      ]
    },
    {
      "cell_type": "code",
      "metadata": {
        "id": "dUnpHW-z_7An",
        "colab_type": "code",
        "colab": {},
        "outputId": "d13a86b8-d8a9-493a-ba5f-e647ecc9b788"
      },
      "source": [
        "person2['married']"
      ],
      "execution_count": null,
      "outputs": [
        {
          "output_type": "execute_result",
          "data": {
            "text/plain": [
              "False"
            ]
          },
          "metadata": {
            "tags": []
          },
          "execution_count": 220
        }
      ]
    },
    {
      "cell_type": "code",
      "metadata": {
        "id": "gB_Fqd7W_7Ar",
        "colab_type": "code",
        "colab": {}
      },
      "source": [
        "person2['married'] = True"
      ],
      "execution_count": null,
      "outputs": []
    },
    {
      "cell_type": "code",
      "metadata": {
        "id": "s4QB1cT1_7Av",
        "colab_type": "code",
        "colab": {},
        "outputId": "863f23d9-92fa-4316-cd11-34857a3161b3"
      },
      "source": [
        "person2['married']"
      ],
      "execution_count": null,
      "outputs": [
        {
          "output_type": "execute_result",
          "data": {
            "text/plain": [
              "True"
            ]
          },
          "metadata": {
            "tags": []
          },
          "execution_count": 222
        }
      ]
    },
    {
      "cell_type": "markdown",
      "metadata": {
        "id": "cPVlbtlC_7Az",
        "colab_type": "text"
      },
      "source": [
        "The assignment operator can also be used to add new key-value pairs to the dictonary."
      ]
    },
    {
      "cell_type": "code",
      "metadata": {
        "id": "0wGoNfL6_7Az",
        "colab_type": "code",
        "colab": {},
        "outputId": "ba2045ec-e3fe-4c23-f562-82016a221371"
      },
      "source": [
        "person1"
      ],
      "execution_count": null,
      "outputs": [
        {
          "output_type": "execute_result",
          "data": {
            "text/plain": [
              "{'name': 'John Doe', 'sex': 'Male', 'age': 32, 'married': True}"
            ]
          },
          "metadata": {
            "tags": []
          },
          "execution_count": 223
        }
      ]
    },
    {
      "cell_type": "code",
      "metadata": {
        "id": "0wbW96OC_7A1",
        "colab_type": "code",
        "colab": {}
      },
      "source": [
        "person1['address'] = '1, Penny Lane'"
      ],
      "execution_count": null,
      "outputs": []
    },
    {
      "cell_type": "code",
      "metadata": {
        "id": "pBJk_f7i_7A4",
        "colab_type": "code",
        "colab": {},
        "outputId": "5a767009-d1cd-43e9-d6bc-abb73169c45e"
      },
      "source": [
        "person1"
      ],
      "execution_count": null,
      "outputs": [
        {
          "output_type": "execute_result",
          "data": {
            "text/plain": [
              "{'name': 'John Doe',\n",
              " 'sex': 'Male',\n",
              " 'age': 32,\n",
              " 'married': True,\n",
              " 'address': '1, Penny Lane'}"
            ]
          },
          "metadata": {
            "tags": []
          },
          "execution_count": 225
        }
      ]
    },
    {
      "cell_type": "markdown",
      "metadata": {
        "id": "UPO2EKb7_7A6",
        "colab_type": "text"
      },
      "source": [
        "To remove a key and the associated value from a dictionary, use the `pop` method."
      ]
    },
    {
      "cell_type": "code",
      "metadata": {
        "id": "_vPRRE9Z_7A7",
        "colab_type": "code",
        "colab": {},
        "outputId": "9f3326b7-ce16-4535-8a68-8f626bf28923"
      },
      "source": [
        "person1.pop('address')"
      ],
      "execution_count": null,
      "outputs": [
        {
          "output_type": "execute_result",
          "data": {
            "text/plain": [
              "'1, Penny Lane'"
            ]
          },
          "metadata": {
            "tags": []
          },
          "execution_count": 226
        }
      ]
    },
    {
      "cell_type": "code",
      "metadata": {
        "id": "hewcupW__7BC",
        "colab_type": "code",
        "colab": {},
        "outputId": "45e6a0fa-82f2-4079-8ecf-bb9ceddf7c22"
      },
      "source": [
        "person1"
      ],
      "execution_count": null,
      "outputs": [
        {
          "output_type": "execute_result",
          "data": {
            "text/plain": [
              "{'name': 'John Doe', 'sex': 'Male', 'age': 32, 'married': True}"
            ]
          },
          "metadata": {
            "tags": []
          },
          "execution_count": 227
        }
      ]
    },
    {
      "cell_type": "markdown",
      "metadata": {
        "id": "eF5IbH-s_7BF",
        "colab_type": "text"
      },
      "source": [
        "Dictonaries also provide methods to view the list of keys, values or key-value pairs inside it."
      ]
    },
    {
      "cell_type": "code",
      "metadata": {
        "id": "kCEpi3Ly_7BF",
        "colab_type": "code",
        "colab": {},
        "outputId": "e2aa8db5-1cce-4268-c9d7-68c4261130e1"
      },
      "source": [
        "person1.keys()"
      ],
      "execution_count": null,
      "outputs": [
        {
          "output_type": "execute_result",
          "data": {
            "text/plain": [
              "dict_keys(['name', 'sex', 'age', 'married'])"
            ]
          },
          "metadata": {
            "tags": []
          },
          "execution_count": 228
        }
      ]
    },
    {
      "cell_type": "code",
      "metadata": {
        "id": "CN_t1_p7_7BM",
        "colab_type": "code",
        "colab": {},
        "outputId": "60e19ff0-4499-4688-8806-628b031521e6"
      },
      "source": [
        "person1.values()"
      ],
      "execution_count": null,
      "outputs": [
        {
          "output_type": "execute_result",
          "data": {
            "text/plain": [
              "dict_values(['John Doe', 'Male', 32, True])"
            ]
          },
          "metadata": {
            "tags": []
          },
          "execution_count": 229
        }
      ]
    },
    {
      "cell_type": "code",
      "metadata": {
        "id": "Vh_X0AX__7BR",
        "colab_type": "code",
        "colab": {},
        "outputId": "07f9594d-3749-45b2-fe55-76b6842b9d47"
      },
      "source": [
        "person1.items()"
      ],
      "execution_count": null,
      "outputs": [
        {
          "output_type": "execute_result",
          "data": {
            "text/plain": [
              "dict_items([('name', 'John Doe'), ('sex', 'Male'), ('age', 32), ('married', True)])"
            ]
          },
          "metadata": {
            "tags": []
          },
          "execution_count": 230
        }
      ]
    },
    {
      "cell_type": "code",
      "metadata": {
        "id": "z4eUx4Sk_7BW",
        "colab_type": "code",
        "colab": {},
        "outputId": "95ca2606-11c9-468f-87b8-6ca7dc1d56f0"
      },
      "source": [
        "person1.items()[1]"
      ],
      "execution_count": null,
      "outputs": [
        {
          "output_type": "error",
          "ename": "TypeError",
          "evalue": "'dict_items' object is not subscriptable",
          "traceback": [
            "\u001b[0;31m---------------------------------------------------------------------------\u001b[0m",
            "\u001b[0;31mTypeError\u001b[0m                                 Traceback (most recent call last)",
            "\u001b[0;32m<ipython-input-231-b9fb361f2a9e>\u001b[0m in \u001b[0;36m<module>\u001b[0;34m\u001b[0m\n\u001b[0;32m----> 1\u001b[0;31m \u001b[0mperson1\u001b[0m\u001b[0;34m.\u001b[0m\u001b[0mitems\u001b[0m\u001b[0;34m(\u001b[0m\u001b[0;34m)\u001b[0m\u001b[0;34m[\u001b[0m\u001b[0;36m1\u001b[0m\u001b[0;34m]\u001b[0m\u001b[0;34m\u001b[0m\u001b[0;34m\u001b[0m\u001b[0m\n\u001b[0m",
            "\u001b[0;31mTypeError\u001b[0m: 'dict_items' object is not subscriptable"
          ]
        }
      ]
    },
    {
      "cell_type": "markdown",
      "metadata": {
        "id": "gekoDh97_7BZ",
        "colab_type": "text"
      },
      "source": [
        "The result of the `keys`, `values` or `items` look like lists but don't seem to support the indexing operator `[]` for retrieving elements. \n",
        "\n",
        "Can you figure out how to access an element at a specific index from these results? Try it below. *Hint: Use the `list` function*"
      ]
    },
    {
      "cell_type": "code",
      "metadata": {
        "id": "dwsryHh5_7BZ",
        "colab_type": "code",
        "colab": {}
      },
      "source": [
        ""
      ],
      "execution_count": null,
      "outputs": []
    },
    {
      "cell_type": "code",
      "metadata": {
        "id": "OyRBYoCM_7Bc",
        "colab_type": "code",
        "colab": {}
      },
      "source": [
        ""
      ],
      "execution_count": null,
      "outputs": []
    },
    {
      "cell_type": "markdown",
      "metadata": {
        "id": "c--PGuBM_7Cz",
        "colab_type": "text"
      },
      "source": [
        "Dictionaries provide many other methods. You can learn more about them here: https://www.w3schools.com/python/python_ref_dictionary.asp\n",
        "\n",
        "Here are some experiments you can try out with dictionaries (use the empty cells below):\n",
        "* What happens if you use the same key multiple times while creating a dictionary?\n",
        "* How can you create a copy of a dictionary (modifying the copy should not change the original)?\n",
        "* Can the value associated with a key itself be a dictionary?\n",
        "* How can you add the key value pairs from one dictionary into another dictionary? Hint: See the `update` method.\n",
        "* Can the keys of a dictionary be something other than a string e.g. a number, boolean, list etc.?"
      ]
    },
    {
      "cell_type": "code",
      "metadata": {
        "id": "TLYKmUbX_7C0",
        "colab_type": "code",
        "colab": {}
      },
      "source": [
        ""
      ],
      "execution_count": null,
      "outputs": []
    },
    {
      "cell_type": "code",
      "metadata": {
        "id": "eHw2FyzX_7C3",
        "colab_type": "code",
        "colab": {}
      },
      "source": [
        ""
      ],
      "execution_count": null,
      "outputs": []
    },
    {
      "cell_type": "code",
      "metadata": {
        "id": "O-kPzkh5_7C7",
        "colab_type": "code",
        "colab": {}
      },
      "source": [
        ""
      ],
      "execution_count": null,
      "outputs": []
    },
    {
      "cell_type": "code",
      "metadata": {
        "id": "TFGBzSWu_7C9",
        "colab_type": "code",
        "colab": {}
      },
      "source": [
        ""
      ],
      "execution_count": null,
      "outputs": []
    },
    {
      "cell_type": "code",
      "metadata": {
        "id": "k-2_zRgQ_7C_",
        "colab_type": "code",
        "colab": {}
      },
      "source": [
        ""
      ],
      "execution_count": null,
      "outputs": []
    },
    {
      "cell_type": "markdown",
      "metadata": {
        "id": "FXcZVkOG_7DB",
        "colab_type": "text"
      },
      "source": [
        "## Further Reading\n",
        "\n",
        "We've now completed our exploration of variables and common data types in Python. Following are some resources to learn more about data types in Python:\n",
        "\n",
        "* Python official documentation: https://docs.python.org/3/tutorial/index.html\n",
        "* Python Tutorial at W3Schools: https://www.w3schools.com/python/\n",
        "* Practical Python Programming: https://dabeaz-course.github.io/practical-python/Notes/Contents.html\n",
        "\n",
        "You are now ready to move on to the next tutorial: [Branching using conditional statements and loops in Python](https://jovian.ml/aakashns/python-branching-and-loops)"
      ]
    },
    {
      "cell_type": "markdown",
      "metadata": {
        "id": "icZ5g1ym_7DB",
        "colab_type": "text"
      },
      "source": [
        "Let's save a snapshot of our notebook one final time using `jovian.commit`."
      ]
    },
    {
      "cell_type": "code",
      "metadata": {
        "id": "YBiIAEDh_7DB",
        "colab_type": "code",
        "colab": {},
        "outputId": "496b1d1c-5d6e-4e3f-9904-a8d08ee215b3"
      },
      "source": [
        "jovian.commit()"
      ],
      "execution_count": null,
      "outputs": [
        {
          "output_type": "display_data",
          "data": {
            "application/javascript": [
              "window.require && require([\"base/js/namespace\"],function(Jupyter){Jupyter.notebook.save_checkpoint()})"
            ],
            "text/plain": [
              "<IPython.core.display.Javascript object>"
            ]
          },
          "metadata": {
            "tags": []
          }
        },
        {
          "output_type": "stream",
          "text": [
            "[jovian] Attempting to save notebook..\u001b[0m\n",
            "[jovian] Updating notebook \"aakashns/python-variables-and-data-types\" on https://jovian.ml/\u001b[0m\n",
            "[jovian] Uploading notebook..\u001b[0m\n",
            "[jovian] Capturing environment..\u001b[0m\n",
            "[jovian] Committed successfully! https://jovian.ml/aakashns/python-variables-and-data-types\u001b[0m\n"
          ],
          "name": "stdout"
        },
        {
          "output_type": "execute_result",
          "data": {
            "text/plain": [
              "'https://jovian.ml/aakashns/python-variables-and-data-types'"
            ]
          },
          "metadata": {
            "tags": []
          },
          "execution_count": 237
        }
      ]
    },
    {
      "cell_type": "code",
      "metadata": {
        "id": "u1NzAULU_7DF",
        "colab_type": "code",
        "colab": {}
      },
      "source": [
        ""
      ],
      "execution_count": null,
      "outputs": []
    }
  ]
}